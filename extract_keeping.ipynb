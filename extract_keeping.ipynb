{
 "cells": [
  {
   "cell_type": "code",
   "execution_count": 1,
   "id": "af730071-fa5d-463b-82c9-9b494d4de7b4",
   "metadata": {},
   "outputs": [],
   "source": [
    "import os\n",
    "from shutil import copyfile\n",
    "from pathlib import Path"
   ]
  },
  {
   "cell_type": "code",
   "execution_count": 2,
   "id": "77df7ff7-f956-41dd-a57c-6529283d3d37",
   "metadata": {},
   "outputs": [],
   "source": [
    "to_keep = Path(\"esd_rest_speakers_1min_per_em/\").rglob(\"*.wav\")"
   ]
  },
  {
   "cell_type": "code",
   "execution_count": 3,
   "id": "3473e27b-f95f-4457-b5bc-e74cb14d8425",
   "metadata": {},
   "outputs": [],
   "source": [
    "to_keep = [file.stem.split(\"_\", 2)[-1] for file in to_keep]"
   ]
  },
  {
   "cell_type": "code",
   "execution_count": 4,
   "id": "587819ec-771e-48fb-adb5-a103ace4d801",
   "metadata": {},
   "outputs": [],
   "source": [
    "speakers_to_ignore = [\"0011\", \"0012\", \"0013\", \"0014\", \"0020\"]"
   ]
  },
  {
   "cell_type": "code",
   "execution_count": 5,
   "id": "a2a9714e-3deb-44d7-97f4-8284a50ba3af",
   "metadata": {},
   "outputs": [],
   "source": [
    "data_path = Path(\"data/esd_vctk/\")"
   ]
  },
  {
   "cell_type": "code",
   "execution_count": 6,
   "id": "0a843473-8063-4d6e-911a-2aa37cd683c5",
   "metadata": {},
   "outputs": [],
   "source": [
    "new_path = Path(\"data/esd_vctk_1\")\n",
    "\n",
    "for file in data_path.rglob(\"*.*\"):\n",
    "    speaker = file.parent.name\n",
    "    file_type = file.parent.parent.name\n",
    "    save_path = new_path / file_type / speaker\n",
    "    save_path.mkdir(exist_ok=True, parents=True)\n",
    "    if speaker not in speakers_to_ignore:\n",
    "        copyfile(file, save_path / file.name)\n",
    "    if speaker in speakers_to_ignore and file.stem in to_keep:\n",
    "        copyfile(file, save_path / file.name)"
   ]
  },
  {
   "cell_type": "code",
   "execution_count": null,
   "id": "a1471ea7-c472-4b20-a73f-b26d0cb0ba87",
   "metadata": {},
   "outputs": [],
   "source": []
  }
 ],
 "metadata": {
  "kernelspec": {
   "display_name": "Python 3 (ipykernel)",
   "language": "python",
   "name": "python3"
  },
  "language_info": {
   "codemirror_mode": {
    "name": "ipython",
    "version": 3
   },
   "file_extension": ".py",
   "mimetype": "text/x-python",
   "name": "python",
   "nbconvert_exporter": "python",
   "pygments_lexer": "ipython3",
   "version": "3.8.12"
  }
 },
 "nbformat": 4,
 "nbformat_minor": 5
}
