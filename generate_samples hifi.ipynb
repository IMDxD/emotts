{
 "cells": [
  {
   "cell_type": "code",
   "execution_count": 1,
   "id": "60f2a2f5-75b6-4f29-bfa3-687283fc3edd",
   "metadata": {},
   "outputs": [],
   "source": [
    "import json\n",
    "import torch\n",
    "import re\n",
    "from pathlib import Path\n",
    "from src.models.hifi_gan.models import Generator, load_model as load_hifi\n",
    "from src.train_config import TrainParams, load_config\n",
    "from src.preprocessing.text.cleaners import english_cleaners\n",
    "import subprocess\n",
    "from scipy.io.wavfile import write as wav_write\n",
    "from tqdm.notebook import tqdm\n"
   ]
  },
  {
   "cell_type": "code",
   "execution_count": 2,
   "id": "cadb30e1",
   "metadata": {},
   "outputs": [],
   "source": [
    "config = load_config(\"configs/esd_tune.yml\")"
   ]
  },
  {
   "cell_type": "code",
   "execution_count": 3,
   "id": "d6f1d868",
   "metadata": {},
   "outputs": [],
   "source": [
    "device = config.device"
   ]
  },
  {
   "cell_type": "code",
   "execution_count": 4,
   "id": "e79172a3",
   "metadata": {},
   "outputs": [],
   "source": [
    "checkpoint_path = Path(f\"checkpoints/{config.checkpoint_name}\")"
   ]
  },
  {
   "cell_type": "code",
   "execution_count": 5,
   "id": "86155ddb-2ff2-4349-a647-e48e93dc7872",
   "metadata": {},
   "outputs": [],
   "source": [
    "generators = [file for file in (checkpoint_path / \"hifi\").rglob(\"*.*\") if file.name.startswith(\"g_\")]"
   ]
  },
  {
   "cell_type": "code",
   "execution_count": 6,
   "id": "87c22be1-9872-4fed-b351-d4565a89681f",
   "metadata": {},
   "outputs": [],
   "source": [
    "G2P_MODEL_PATH = \"models/en/g2p/english_g2p.zip\"\n",
    "G2P_OUTPUT_PATH = \"predictions/to_g2p.txt\""
   ]
  },
  {
   "cell_type": "code",
   "execution_count": 7,
   "id": "311e7d39-cabf-43d5-8301-2600949b469c",
   "metadata": {},
   "outputs": [],
   "source": [
    "def text_to_file(user_query: str) -> None:\n",
    "    text_path = Path(\"tmp.txt\")\n",
    "    with open(text_path, \"w\") as fout:\n",
    "        normalized_content = english_cleaners(user_query)\n",
    "        normalized_content = \" \".join(re.findall(\"[a-zA-Z]+\", normalized_content))\n",
    "        fout.write(normalized_content)\n",
    "    subprocess.call(\n",
    "        [\"mfa\", \"g2p\", G2P_MODEL_PATH, text_path.absolute(), G2P_OUTPUT_PATH]\n",
    "    )\n",
    "    text_path.unlink()"
   ]
  },
  {
   "cell_type": "code",
   "execution_count": 8,
   "id": "d9ad11ab-3024-4935-b7d3-5301a319365a",
   "metadata": {},
   "outputs": [],
   "source": [
    "default = {\"he\": \"HH IY1\", \"she\": \"SH IY1\", \"we\": \"W IY1\", \"be\": \"B IY0\", \"the\": \"DH AH0\", \"whenever\": \"W EH0 N EH1 V ER0\", \"year\": \"AH0 Y IH1 R\"}\n",
    "\n",
    "def parse_g2p(PHONEMES_TO_IDS, g2p_path: str = G2P_OUTPUT_PATH):\n",
    "    with open(g2p_path, \"r\") as fin:\n",
    "        phonemes_ids = []\n",
    "        phonemes = []\n",
    "        phonemes_ids.append(PHONEMES_TO_IDS[\"\"])\n",
    "        for line in fin:\n",
    "            word, word_to_phones = line.rstrip().split(\"\\t\", 1)\n",
    "            if word in default:\n",
    "                word_to_phones = default[word]\n",
    "            phonemes.extend(word_to_phones.split(\" \"))\n",
    "            phonemes_ids.extend(\n",
    "                [PHONEMES_TO_IDS[ph] for ph in word_to_phones.split(\" \")]\n",
    "            )\n",
    "        phonemes_ids.append(PHONEMES_TO_IDS[\"\"])\n",
    "    return phonemes_ids"
   ]
  },
  {
   "cell_type": "code",
   "execution_count": 9,
   "id": "21349f74-99be-44d0-bfd4-401ab32700c9",
   "metadata": {},
   "outputs": [],
   "source": [
    "texts_old = [\n",
    "    \"Something must be done for them whenever they leave their current place and settle in a new home.\",\n",
    "    \"He then really thought himself equal to it.\",\n",
    "    \"I had felt that the best of life was over for me!\",\n",
    "    \"I hope a hundred pounds a year would make them all comfortable.\",\n",
    "    \"Perhaps it would have been as well if he had left it wholly to myself.\",\n",
    "    \"A pleasant renewing of old acquaintances, that was all I had thought it, not foreseeing that I was shortly to plunge into this whole situation.\"\n",
    "]"
   ]
  },
  {
   "cell_type": "code",
   "execution_count": 10,
   "id": "861fd686",
   "metadata": {},
   "outputs": [],
   "source": [
    "huawei_phones_old = \"\"\"S AH1 M TH IH0 NG\n",
    "M AH1 S T\n",
    "B IY1\n",
    "D AH1 N\n",
    "F AO1 R\n",
    "DH EH1 M\n",
    "W EH0 N EH1 V ER0\n",
    "DH EY1\n",
    "L IY1 V\n",
    "DH EH1 R\n",
    "K ER1 AH0 N T\n",
    "P L EY1 S\n",
    "AH0 N D\n",
    "S EH1 T AH0 L\n",
    "IH0 N\n",
    "AH0\n",
    "N UW1\n",
    "HH OW1 M\n",
    "\n",
    "\n",
    "HH IY1\n",
    "DH EH1 N\n",
    "R IH1 L IY0\n",
    "TH AO1 T\n",
    "HH IH0 M S EH1 L F\n",
    "IY1 K W AH0 L\n",
    "T UW1\n",
    "IH1 T\n",
    "\n",
    "\n",
    "AY1\n",
    "HH AE1 D\n",
    "F EH1 L T\n",
    "DH AE1 T\n",
    "DH AH0\n",
    "B EH1 S T\n",
    "AH1 V\n",
    "L AY1 F\n",
    "W AA1 Z\n",
    "OW1 V ER0\n",
    "F AO1 R\n",
    "M IY1\n",
    "\n",
    "\n",
    "AY1\n",
    "HH OW1 P\n",
    "AH0\n",
    "HH AH1 N D R AH0 D\n",
    "P AW1 N D Z\n",
    "AH0\n",
    "Y IH1 R\n",
    "W UH1 D\n",
    "M EY1 K\n",
    "DH EH1 M\n",
    "AO1 L\n",
    "K AH1 M F ER0 T AH0 B AH0 L\n",
    "\n",
    "\n",
    "P ER0 HH AE1 P S\n",
    "IH1 T\n",
    "W UH1 D\n",
    "HH AE1 V\n",
    "B IH1 N\n",
    "AE1 Z\n",
    "W EH1 L\n",
    "IH1 F\n",
    "HH IY1\n",
    "HH AE1 D\n",
    "L EH1 F T\n",
    "IH1 T\n",
    "HH OW1 L IY0\n",
    "T UW0\n",
    "M AY2 S EH1 L F\n",
    "\n",
    "\n",
    "AH0\n",
    "P L EH1 Z AH0 N T\n",
    "R IH0 N UW1 IH0 NG\n",
    "AH1 V\n",
    "OW1 L D\n",
    "AH0 K W EY1 N T AH0 N S IH0 Z\n",
    " \n",
    "DH AE1 T\n",
    "W AA1 Z\n",
    "AO1 L\n",
    "AY1\n",
    "HH AE1 D\n",
    "TH AO1 T\n",
    "IH1 T\n",
    " \n",
    "N AA1 T\n",
    "F AO0 R S IY1 IH0 NG\n",
    "DH AE1 T\n",
    "AY1\n",
    "W AA1 Z\n",
    "SH AO1 R T L IY0\n",
    "T UW0\n",
    "P L AH1 N JH\n",
    "IH1 N T UW0\n",
    "DH IH1 S\n",
    "HH OW1 L\n",
    "S IH2 CH UW0 EY1 SH AH0 N\"\"\""
   ]
  },
  {
   "cell_type": "code",
   "execution_count": 11,
   "id": "f0d165ce-a7bb-4e83-b37e-dc0692ed1089",
   "metadata": {},
   "outputs": [],
   "source": [
    "test_texts = \"\"\"\n",
    "1\tWe got few vegetables and fruits , and became fish eaters .\n",
    "2\tFifty yards ahead of her were the first of the rocks .\n",
    "3\tIt seemed the ordained order of things that dogs should work .\n",
    "4\tThe journey was continued at dawn .\n",
    "5\tWas it the rendezvous of those who were striving to work his ruin .\n",
    "6\tA dead man is of no use on a plantation .\n",
    "7\tThe Claudine was leaving next morning for Honolulu .\n",
    "8\tProsecutors have opened a massive investigation into allegations of fixing games and illegal betting.\n",
    "9\tDifferent telescope designs perform differently, and have different strengths and weaknesses.\n",
    "10\tHumans also judge distance by using the relative sizes of objects.\n",
    "11\tIf this is true then those who tend to think creatively, really are somehow different.\n",
    "12\tBut really in the grand scheme of things, this information is insignificant.\n",
    "13\tHe had a private jet with three king-size beds, expensive rugs, porcelain vases and a dining area.\n",
    "14\tWhen I reached Atlanta my steadily increasing disappointment was not lessened. I found it a big, dull, red town.\n",
    "15\t\"She woke Meg with a \"\"Merry Christmas\"\", and bade her see what was under her pillow. A green–covered book appeared, with the same picture inside, and a few words written by their mother, which made their one present very precious in their eyes.\"\n",
    "16\tDoes Jane know about your new job? No, and don't you dare tell her! She will be furious!\n",
    "17\tDoes she like ice cream or sweets? She likes any kind of ice cream. Chocolate, vanilla, strawberry, banana, the one with caramel, coconut, any you can think of!\n",
    "18\tEarthquakes damage all structures, including bridges.\n",
    "19\tLuckily, this kind of collapse is relatively infrequent.\n",
    "20\tWas it using language that caused their brains to develop?\n",
    "21\tIf everyone followed a similar plan, the results would be impressive.\n",
    "22\tNext, the hero overcomes obstacles on the way to facing their greatest challenge.\n",
    "23\tFor more than two hundred years the pessimists have been winning the public debate.\n",
    "24\tIt's wearing me out trying to juggle work with looking after my children and my family.\n",
    "25\tYoung people want to feel supported and appreciated by their company and their superiors.\n",
    "26\tWe start to see the evidence of early human civilisation, through cave paintings for example.\n",
    "27\t\"In this culture a so-called \"\"smile of respect\"\" is seen as insincere and often regarded with suspicion.\"\n",
    "28\tWe can express complex thoughts, convey subtle emotions and communicate about some abstract concepts.\n",
    "29\tThe activists send a clear message to companies that people are no longer willing to accept the environmental and human cost of overconsumption.\n",
    "30\tAll this is thanks to his childhood in the mountains and to genetics, but it is his mental strength that sets him apart.\n",
    "\"\"\""
   ]
  },
  {
   "cell_type": "code",
   "execution_count": 12,
   "id": "f0871808-7396-4a82-b529-404babb6be8d",
   "metadata": {},
   "outputs": [],
   "source": [
    "huawei_phones = [\n",
    "    ' W IY1 G AA1 T F Y UW1 V EH1 JH T AH0 B AH0 L Z AH0 N D F R UW1 T S  AH0 N D B IH0 K EY1 M F IH1 SH IY1 T ER0 Z  ',\n",
    "    ' F IH1 F T IY0 Y AA1 R D Z AH0 HH EH1 D AH1 V HH ER1 W ER1 DH AH0 F ER1 S T AH1 V DH AH0 R AA1 K S  ',\n",
    "    ' IH1 T S IY1 M D DH IY0 AO0 R D EY1 N D AO1 R D ER0 AH1 V TH IH1 NG Z DH AE1 T D AA1 G Z SH UH1 D W ER1 K  ',\n",
    "    ' DH AH0 JH ER1 N IY0 W AA1 Z K AH0 N T IH1 N Y UW0 D AE1 T D AO1 N  ',\n",
    "    ' W AA1 Z IH1 T DH AH0 R AA1 N D IH0 V UW2 AH1 V DH OW1 Z HH UW1 W ER1 S T R AY1 V IH0 NG T UW1 W ER1 K HH IH1 Z R UW1 AH0 N  ',\n",
    "    ' AH0 D EH1 D M AE1 N IH1 Z AH1 V N OW1 Y UW1 S AA1 N AH0 P L AE2 N T EY1 SH AH0 N  ',\n",
    "    ' DH AH0 K L AO0 D IY1 N W AA1 Z L IY1 V IH0 NG N EH1 K S T M AO1 R N IH0 NG F AO1 R HH AA2 N AH0 L UW1 L UW0  ',\n",
    "    ' P R AA1 S IH0 K Y UW2 T ER0 Z HH AE1 V OW1 P AH0 N D AH0 M AE1 S IH0 V IH2 N V EH2 S T AH0 G EY1 SH AH0 N IH1 N T UW0 AE2 L AH0 G EY1 SH AH0 N Z AH1 V F IH1 K S IH0 NG G EY1 M Z AH0 N D IH2 L IY1 G AH0 L B EH1 T IH0 NG  ',\n",
    "    ' D IH1 F ER0 AH0 N T T EH1 L AH0 S K OW2 P D IH0 Z AY1 N Z P ER0 F AO1 R M D IH1 F R AH0 N T L IY0  AH0 N D HH AE1 V D IH1 F ER0 AH0 N T S T R EH1 NG K TH S AH0 N D W IY1 K N AH0 S AH0 Z  ',\n",
    "    ' HH Y UW1 M AH0 N Z AO1 L S OW0 JH AH1 JH D IH1 S T AH0 N S B AY1 Y UW1 Z IH0 NG DH AH0 R EH1 L AH0 T IH0 V S AY1 Z AH0 Z AH1 V AA1 B JH EH0 K T S  ',\n",
    "    ' IH1 F DH IH1 S IH1 Z T R UW1 DH EH1 N DH OW1 Z HH UW1 T EH1 N D T UW1 TH IH1 NG K K R IY0 EY1 T IH0 V L IY0  R IH1 L IY0 AA1 R S AH1 M HH AW2 D IH1 F ER0 AH0 N T  ',\n",
    "    ' B AH1 T R IH1 L IY0 IH0 N DH AH0 G R AE1 N D S K IY1 M AH1 V TH IH1 NG Z  DH IH1 S IH2 N F ER0 M EY1 SH AH0 N IH1 Z IH2 N S IH0 G N Y IH1 F IH0 K AH0 N T  ',\n",
    "    ' HH IY1 HH AE1 D AH0 P R AY1 V AH0 T JH EH1 T W IH1 DH TH R IY1 K IH1 NG S AY1 Z B EH1 D Z  IH0 K S P EH1 N S IH0 V R AH1 G Z  P AO1 R S AH0 L AH0 N V EY1 S AH0 Z AH0 N D AH0 D AY1 N IH0 NG EH1 R IY0 AH0  ',\n",
    "    ' W EH1 N AY1 R IY1 CH T AE0 T L AE1 N T AH0 M AY1 S T EH1 D AH0 L IY0 IH2 N K R IY1 S IH0 NG D IH2 S AH0 P OY1 N T M AH0 N T W AA1 Z N AA1 T L EH1 S AH0 N D  AY1 F AW1 N D IH1 T AH0 B IH1 G  D AH1 L  R EH1 D T AW1 N  ',\n",
    "    ' SH IY1 W OW1 K M EH1 G W IH1 DH AH0 M EH1 R IY0 K R IH1 S M AH0 S  AH0 N D B EY1 D HH ER1 S IY1 W AH1 T W AA1 Z AH1 N D ER0 HH ER1 P IH1 L OW0  AH0 G R IY1 N K AH1 V ER0 D B UH1 K AH0 P IH1 R D  W IH1 DH DH AH0 S EY1 M P IH1 K CH ER0 IH2 N S AY1 D  AH0 N D AH0 F Y UW1 W ER1 D Z R IH1 T AH0 N B AY1 DH EH1 R M AH1 DH ER0  W IH1 CH M EY1 D DH EH1 R W AH1 N P R EH1 Z AH0 N T V EH1 R IY0 P R EH1 SH AH0 S IH0 N DH EH1 R AY1 Z  ',\n",
    "    ' D AH1 Z JH EY1 N N OW1 AH0 B AW1 T Y AO1 R N UW1 JH AA1 B  N OW1  AH0 N D D OW1 N T Y UW1 D EH1 R T EH1 L HH ER1  SH IY1 W IH1 L B IY1 F Y UH1 R IY0 AH0 S  ',\n",
    "    ' D AH1 Z SH IY1 L AY1 K AY1 S K R IY1 M AO1 R S W IY1 T S  SH IY1 L AY1 K S EH1 N IY0 K AY1 N D AH1 V AY1 S K R IY1 M  CH AO1 K L AH0 T  V AH0 N IH1 L AH0  S T R AO1 B EH2 R IY0  B AH0 N AE1 N AH0  DH AH0 W AH1 N W IH1 DH K EH1 R AH0 M AH0 L  K OW1 K AH0 N AH2 T  EH1 N IY0 Y UW1 K AE1 N TH IH1 NG K AH1 V  ',\n",
    "    ' ER1 TH K W EY2 K S D AE1 M AH0 JH AO1 L S T R AH1 K CH ER0 Z  IH2 N K L UW1 D IH0 NG B R IH1 JH AH0 Z  ',\n",
    "    ' L AH1 K AH0 L IY0  DH IH1 S K AY1 N D AH1 V K AH0 L AE1 P S IH1 Z R EH1 L AH0 T IH0 V L IY0 IH2 N F R IY1 K W AH0 N T  ',\n",
    "    ' W AA1 Z IH1 T Y UW1 Z IH0 NG L AE1 NG G W AH0 JH DH AE1 T K AA1 Z D DH EH1 R B R EY1 N Z T UW1 D IH0 V EH1 L AH0 P  ',\n",
    "    ' IH1 F EH1 V R IY0 W AH2 N F AA1 L OW0 D AH0 S IH1 M AH0 L ER0 P L AE1 N  DH AH0 R IH0 Z AH1 L T S W UH1 D B IY1 IH2 M P R EH1 S IH0 V  ',\n",
    "    ' N EH1 K S T  DH AH0 HH IH1 R OW0 OW1 V ER0 K AH2 M Z AA1 B S T AH0 K AH0 L Z AA1 N DH AH0 W EY1 T UW1 F EY1 S IH0 NG DH EH1 R G R EY1 T AH0 S T CH AE1 L AH0 N JH  ',\n",
    "    ' F AO1 R M AO1 R DH AE1 N T UW1 HH AH1 N D R AH0 D Y IH1 R Z DH AH0 P EH1 S AH0 M IH0 S T S HH AE1 V B IH1 N W IH1 N IH0 NG DH AH0 P AH1 B L IH0 K D AH0 B EY1 T  ',\n",
    "    ' IH1 T S W EH1 R IH0 NG M IY1 AW1 T T R AY1 IH0 NG T UW1 JH AH1 G AH0 L W ER1 K W IH1 DH L UH1 K IH0 NG AE1 F T ER0 M AY1 CH IH1 L D R AH0 N AH0 N D M AY1 F AE1 M AH0 L IY0  ',\n",
    "    ' Y AH1 NG P IY1 P AH0 L W AA1 N T T UW1 F IY1 L S AH0 P AO1 R T IH0 D AH0 N D AH0 P R IY1 SH IY0 EY2 T IH0 D B AY1 DH EH1 R K AH1 M P AH0 N IY2 AH0 N D DH EH1 R S UW0 P IH1 R IY0 ER0 Z  ',\n",
    "    ' W IY1 S T AA1 R T T UW1 S IY1 DH IY0 EH1 V AH0 D AH0 N S AH1 V ER1 L IY0 HH Y UW1 M AH0 N S IH1 V AH0 L IH0 S EY1 SH AH0 N  TH R UW1 K EY1 V P EY1 N T IH0 NG Z F AO1 R IH0 G Z AE1 M P AH0 L  ',\n",
    "    ' IH0 N DH IH1 S K AH1 L CH ER0 AH0 S OW1 K AO1 L D S M AY1 L AH1 V R IH0 S P EH1 K T IH1 Z S IY1 N AE1 Z IH2 N S IH0 N S IH1 R AH0 N D AO1 F AH0 N R IH0 G AA1 R D IH0 D W IH1 DH S AH0 S P IH1 SH AH0 N  ',\n",
    "    ' W IY1 K AE1 N IH0 K S P R EH1 S K AA1 M P L EH0 K S TH AO1 T S  K AH0 N V EY1 S AH1 T AH0 L IH0 M OW1 SH AH0 N Z AH0 N D K AH0 M Y UW1 N AH0 K EY2 T AH0 B AW1 T S AH1 M AE1 B S T R AE0 K T K AA1 N S EH0 P T S  ',\n",
    "    ' DH IY0 AE1 K T AH0 V AH0 S T S S EH1 N D AH0 K L IH1 R M EH1 S AH0 JH T UW1 K AH1 M P AH0 N IY2 Z DH AE1 T P IY1 P AH0 L AA1 R N OW1 L AO1 NG G ER0 W IH1 L IH0 NG T UW1 AE0 K S EH1 P T DH IY0 IH0 N V AY2 R AH0 N M EH1 N T AH0 L AH0 N D HH Y UW1 M AH0 N K AA1 S T AH1 V OW1 V ER0 K AH0 N S AH2 M P SH AH0 N  ',\n",
    "    ' AO1 L DH IH1 S IH1 Z TH AE1 NG K S T UW1 HH IH1 Z CH AY1 L D HH UH2 D IH0 N DH AH0 M AW1 N T AH0 N Z AH0 N D T UW1 JH AH0 N EH1 T IH0 K S  B AH1 T IH1 T IH1 Z HH IH1 Z M EH1 N T AH0 L S T R EH1 NG K TH DH AE1 T S EH1 T S HH IH1 M AH0 P AA1 R T  '\n",
    "]"
   ]
  },
  {
   "cell_type": "code",
   "execution_count": 13,
   "id": "e73ce066",
   "metadata": {},
   "outputs": [],
   "source": [
    "def to_phones(PHONEMES_TO_IDS, phones):\n",
    "    \"\"\"For old ones\"\"\"\n",
    "    phonemes_ids = []\n",
    "    phonemes_ids.append(PHONEMES_TO_IDS[\"\"])\n",
    "    for line in phones.split(\"\\n\"):\n",
    "        if not line:\n",
    "            continue\n",
    "        word_to_phones = line\n",
    "        phonemes_ids.extend(\n",
    "            [PHONEMES_TO_IDS[ph] for ph in word_to_phones.split(\" \")]\n",
    "        )\n",
    "    phonemes_ids.append(PHONEMES_TO_IDS[\"\"])\n",
    "    return phonemes_ids\n",
    "\n",
    "\n",
    "def to_phones(PHONEMES_TO_IDS, phones):\n",
    "    \"\"\"For new ones\"\"\"\n",
    "    phonemes_ids = (\n",
    "       [PHONEMES_TO_IDS[ph] for ph in phones.split(\" \")]\n",
    "    )\n",
    "    return phonemes_ids"
   ]
  },
  {
   "cell_type": "code",
   "execution_count": 14,
   "id": "7964ca84-3f26-4360-a1c7-6f5be890a25a",
   "metadata": {
    "tags": []
   },
   "outputs": [],
   "source": [
    "phonemes_list = []\n",
    "with open(checkpoint_path / \"feature\"/ \"phonemes.json\") as f:\n",
    "    phonemes_to_ids = json.load(f)\n",
    "for hp in huawei_phones:\n",
    "    phoneme_ids = to_phones(phonemes_to_ids, hp)\n",
    "    phonemes_list.append(phoneme_ids)"
   ]
  },
  {
   "cell_type": "code",
   "execution_count": 15,
   "id": "8fd31131",
   "metadata": {},
   "outputs": [],
   "source": [
    "feature_model = torch.load(checkpoint_path / \"feature\" / \"feature_model.pth\", map_location=device)"
   ]
  },
  {
   "cell_type": "code",
   "execution_count": 16,
   "id": "571cc2a9",
   "metadata": {},
   "outputs": [],
   "source": [
    "feature_model = feature_model.eval()"
   ]
  },
  {
   "cell_type": "code",
   "execution_count": 17,
   "id": "c4ee11d1-62eb-44ba-9ba5-5059cfc06d94",
   "metadata": {},
   "outputs": [],
   "source": [
    "def get_tacotron_batch(\n",
    "    phonemes_ids, reference, speaker_id, device, mels_mean, mels_std\n",
    "):\n",
    "    text_lengths_tensor = torch.LongTensor([len(phonemes_ids)])\n",
    "    reference = (reference - mels_mean) / mels_std\n",
    "    reference = reference.permute(0, 2, 1).to(device)\n",
    "    phonemes_ids_tensor = torch.LongTensor(phonemes_ids).unsqueeze(0).to(device)\n",
    "    speaker_ids_tensor = torch.LongTensor([speaker_id]).to(device)\n",
    "    return phonemes_ids_tensor, text_lengths_tensor, speaker_ids_tensor, reference"
   ]
  },
  {
   "cell_type": "code",
   "execution_count": 18,
   "id": "16bda806-58d1-4a20-8aac-2219004db025",
   "metadata": {},
   "outputs": [],
   "source": [
    "reference_pathes = Path(\"references/\")"
   ]
  },
  {
   "cell_type": "code",
   "execution_count": 19,
   "id": "0f18e587-d1d0-4377-9a6b-d29de11c682d",
   "metadata": {},
   "outputs": [],
   "source": [
    "generated_path = Path(f\"generated_hifi/{config.checkpoint_name}\")"
   ]
  },
  {
   "cell_type": "code",
   "execution_count": 20,
   "id": "aec1807f",
   "metadata": {},
   "outputs": [],
   "source": [
    "with open(checkpoint_path / \"feature\"/ \"speakers.json\") as f:\n",
    "    speaker_to_id = json.load(f)"
   ]
  },
  {
   "cell_type": "code",
   "execution_count": 21,
   "id": "e2cb3a8c",
   "metadata": {},
   "outputs": [],
   "source": [
    "mels_mean = torch.load(checkpoint_path / \"feature\" / \"mels_mean.pth\").float()\n",
    "mels_std = torch.load(checkpoint_path / \"feature\" / \"mels_std.pth\").float()"
   ]
  },
  {
   "cell_type": "code",
   "execution_count": 22,
   "id": "067cd832",
   "metadata": {},
   "outputs": [
    {
     "data": {
      "application/vnd.jupyter.widget-view+json": {
       "model_id": "5a3b446ba486467ca5044574aa77436a",
       "version_major": 2,
       "version_minor": 0
      },
      "text/plain": [
       "  0%|          | 0/45 [00:00<?, ?it/s]"
      ]
     },
     "metadata": {},
     "output_type": "display_data"
    }
   ],
   "source": [
    "for reference in tqdm(list(reference_pathes.rglob(\"*.pkl\"))):\n",
    "    speaker = reference.parent.name\n",
    "    speaker_id = speaker_to_id[speaker]\n",
    "    ref_mel = torch.load(reference)\n",
    "    for i, phonemes in enumerate(phonemes_list):\n",
    "        batch = get_tacotron_batch(phonemes, ref_mel, speaker_id, device, mels_mean, mels_std)\n",
    "        with torch.no_grad():\n",
    "            mels = feature_model.inference(batch)\n",
    "            mels = mels.permute(0, 2, 1).squeeze(0)\n",
    "            mels = mels * mels_std.to(device) + mels_mean.to(device)\n",
    "            x = mels.unsqueeze(0)\n",
    "            for generator_path in generators:\n",
    "                state_dict = torch.load(generator_path, map_location=\"cpu\")\n",
    "                state_dict[\"generator\"] = {k: v.to(device) for k, v in state_dict[\"generator\"].items()}\n",
    "                generator = Generator(config=config.train_hifi.model_param, num_mels=config.n_mels).to(device)\n",
    "                generator.load_state_dict(state_dict[\"generator\"])\n",
    "                generator.remove_weight_norm()\n",
    "                generator.eval()\n",
    "                y_g_hat = generator(x)\n",
    "                audio = y_g_hat.squeeze()\n",
    "                audio = audio * 32768\n",
    "                audio = audio.type(torch.int16).detach().cpu().numpy()\n",
    "                save_path = generated_path / generator_path.stem / speaker / reference.stem\n",
    "                save_path.mkdir(exist_ok=True, parents=True)\n",
    "                wav_write(save_path / f\"{i + 1}.wav\", 22050, audio)\n",
    "                torch.cuda.empty_cache()\n"
   ]
  },
  {
   "cell_type": "code",
   "execution_count": null,
   "id": "124c4007",
   "metadata": {},
   "outputs": [],
   "source": []
  }
 ],
 "metadata": {
  "kernelspec": {
   "display_name": "Python 3 (ipykernel)",
   "language": "python",
   "name": "python3"
  },
  "language_info": {
   "codemirror_mode": {
    "name": "ipython",
    "version": 3
   },
   "file_extension": ".py",
   "mimetype": "text/x-python",
   "name": "python",
   "nbconvert_exporter": "python",
   "pygments_lexer": "ipython3",
   "version": "3.8.12"
  }
 },
 "nbformat": 4,
 "nbformat_minor": 5
}
