{
 "cells": [
  {
   "cell_type": "code",
   "execution_count": 103,
   "id": "60f2a2f5-75b6-4f29-bfa3-687283fc3edd",
   "metadata": {},
   "outputs": [],
   "source": [
    "import json\n",
    "import torch\n",
    "import re\n",
    "import mlflow\n",
    "from pathlib import Path\n",
    "from src.models.hifi_gan.models import Generator, load_model as load_hifi\n",
    "from src.train_config import TrainParams, load_config\n",
    "from src.preprocessing.text.cleaners import english_cleaners\n",
    "import subprocess\n",
    "from scipy.io.wavfile import write as wav_write"
   ]
  },
  {
   "cell_type": "code",
   "execution_count": 37,
   "id": "86155ddb-2ff2-4349-a647-e48e93dc7872",
   "metadata": {},
   "outputs": [],
   "source": [
    "config = load_config(\"configs/esd_vctk.yml\")"
   ]
  },
  {
   "cell_type": "code",
   "execution_count": 38,
   "id": "acdc04a5-6a29-4c2e-9b67-f2539f0b8aa9",
   "metadata": {},
   "outputs": [],
   "source": [
    "device=torch.device(\"cuda:1\")"
   ]
  },
  {
   "cell_type": "code",
   "execution_count": 61,
   "id": "87c22be1-9872-4fed-b351-d4565a89681f",
   "metadata": {},
   "outputs": [],
   "source": [
    "G2P_MODEL_PATH = \"models/g2p/english_g2p.zip\"\n",
    "G2P_OUTPUT_PATH = \"predictions/to_g2p.txt\""
   ]
  },
  {
   "cell_type": "code",
   "execution_count": 39,
   "id": "caedef16-edfd-4a2a-b0b1-bf1c97bd7b18",
   "metadata": {},
   "outputs": [],
   "source": [
    "vocoder = load_hifi(\n",
    "    model_path=config.pretrained_hifi,\n",
    "    hifi_config=config.train_hifi.model_param,\n",
    "    num_mels=config.n_mels,\n",
    "    device=device,\n",
    ")"
   ]
  },
  {
   "cell_type": "code",
   "execution_count": 102,
   "id": "5cd00008-664d-4a70-9d6c-c609aed3bb95",
   "metadata": {},
   "outputs": [
    {
     "data": {
      "text/plain": [
       "Generator(\n",
       "  (conv_pre): Conv1d(80, 512, kernel_size=(7,), stride=(1,), padding=(3,))\n",
       "  (ups): ModuleList(\n",
       "    (0): ConvTranspose1d(512, 256, kernel_size=(16,), stride=(8,), padding=(4,))\n",
       "    (1): ConvTranspose1d(256, 128, kernel_size=(16,), stride=(8,), padding=(4,))\n",
       "    (2): ConvTranspose1d(128, 64, kernel_size=(4,), stride=(2,), padding=(1,))\n",
       "    (3): ConvTranspose1d(64, 32, kernel_size=(4,), stride=(2,), padding=(1,))\n",
       "  )\n",
       "  (resblocks): ModuleList(\n",
       "    (0): ResBlock1(\n",
       "      (convs1): ModuleList(\n",
       "        (0): Conv1d(256, 256, kernel_size=(3,), stride=(1,), padding=(1,))\n",
       "        (1): Conv1d(256, 256, kernel_size=(3,), stride=(1,), padding=(3,), dilation=(3,))\n",
       "        (2): Conv1d(256, 256, kernel_size=(3,), stride=(1,), padding=(5,), dilation=(5,))\n",
       "      )\n",
       "      (convs2): ModuleList(\n",
       "        (0): Conv1d(256, 256, kernel_size=(3,), stride=(1,), padding=(1,))\n",
       "        (1): Conv1d(256, 256, kernel_size=(3,), stride=(1,), padding=(1,))\n",
       "        (2): Conv1d(256, 256, kernel_size=(3,), stride=(1,), padding=(1,))\n",
       "      )\n",
       "    )\n",
       "    (1): ResBlock1(\n",
       "      (convs1): ModuleList(\n",
       "        (0): Conv1d(256, 256, kernel_size=(7,), stride=(1,), padding=(3,))\n",
       "        (1): Conv1d(256, 256, kernel_size=(7,), stride=(1,), padding=(9,), dilation=(3,))\n",
       "        (2): Conv1d(256, 256, kernel_size=(7,), stride=(1,), padding=(15,), dilation=(5,))\n",
       "      )\n",
       "      (convs2): ModuleList(\n",
       "        (0): Conv1d(256, 256, kernel_size=(7,), stride=(1,), padding=(3,))\n",
       "        (1): Conv1d(256, 256, kernel_size=(7,), stride=(1,), padding=(3,))\n",
       "        (2): Conv1d(256, 256, kernel_size=(7,), stride=(1,), padding=(3,))\n",
       "      )\n",
       "    )\n",
       "    (2): ResBlock1(\n",
       "      (convs1): ModuleList(\n",
       "        (0): Conv1d(256, 256, kernel_size=(11,), stride=(1,), padding=(5,))\n",
       "        (1): Conv1d(256, 256, kernel_size=(11,), stride=(1,), padding=(15,), dilation=(3,))\n",
       "        (2): Conv1d(256, 256, kernel_size=(11,), stride=(1,), padding=(25,), dilation=(5,))\n",
       "      )\n",
       "      (convs2): ModuleList(\n",
       "        (0): Conv1d(256, 256, kernel_size=(11,), stride=(1,), padding=(5,))\n",
       "        (1): Conv1d(256, 256, kernel_size=(11,), stride=(1,), padding=(5,))\n",
       "        (2): Conv1d(256, 256, kernel_size=(11,), stride=(1,), padding=(5,))\n",
       "      )\n",
       "    )\n",
       "    (3): ResBlock1(\n",
       "      (convs1): ModuleList(\n",
       "        (0): Conv1d(128, 128, kernel_size=(3,), stride=(1,), padding=(1,))\n",
       "        (1): Conv1d(128, 128, kernel_size=(3,), stride=(1,), padding=(3,), dilation=(3,))\n",
       "        (2): Conv1d(128, 128, kernel_size=(3,), stride=(1,), padding=(5,), dilation=(5,))\n",
       "      )\n",
       "      (convs2): ModuleList(\n",
       "        (0): Conv1d(128, 128, kernel_size=(3,), stride=(1,), padding=(1,))\n",
       "        (1): Conv1d(128, 128, kernel_size=(3,), stride=(1,), padding=(1,))\n",
       "        (2): Conv1d(128, 128, kernel_size=(3,), stride=(1,), padding=(1,))\n",
       "      )\n",
       "    )\n",
       "    (4): ResBlock1(\n",
       "      (convs1): ModuleList(\n",
       "        (0): Conv1d(128, 128, kernel_size=(7,), stride=(1,), padding=(3,))\n",
       "        (1): Conv1d(128, 128, kernel_size=(7,), stride=(1,), padding=(9,), dilation=(3,))\n",
       "        (2): Conv1d(128, 128, kernel_size=(7,), stride=(1,), padding=(15,), dilation=(5,))\n",
       "      )\n",
       "      (convs2): ModuleList(\n",
       "        (0): Conv1d(128, 128, kernel_size=(7,), stride=(1,), padding=(3,))\n",
       "        (1): Conv1d(128, 128, kernel_size=(7,), stride=(1,), padding=(3,))\n",
       "        (2): Conv1d(128, 128, kernel_size=(7,), stride=(1,), padding=(3,))\n",
       "      )\n",
       "    )\n",
       "    (5): ResBlock1(\n",
       "      (convs1): ModuleList(\n",
       "        (0): Conv1d(128, 128, kernel_size=(11,), stride=(1,), padding=(5,))\n",
       "        (1): Conv1d(128, 128, kernel_size=(11,), stride=(1,), padding=(15,), dilation=(3,))\n",
       "        (2): Conv1d(128, 128, kernel_size=(11,), stride=(1,), padding=(25,), dilation=(5,))\n",
       "      )\n",
       "      (convs2): ModuleList(\n",
       "        (0): Conv1d(128, 128, kernel_size=(11,), stride=(1,), padding=(5,))\n",
       "        (1): Conv1d(128, 128, kernel_size=(11,), stride=(1,), padding=(5,))\n",
       "        (2): Conv1d(128, 128, kernel_size=(11,), stride=(1,), padding=(5,))\n",
       "      )\n",
       "    )\n",
       "    (6): ResBlock1(\n",
       "      (convs1): ModuleList(\n",
       "        (0): Conv1d(64, 64, kernel_size=(3,), stride=(1,), padding=(1,))\n",
       "        (1): Conv1d(64, 64, kernel_size=(3,), stride=(1,), padding=(3,), dilation=(3,))\n",
       "        (2): Conv1d(64, 64, kernel_size=(3,), stride=(1,), padding=(5,), dilation=(5,))\n",
       "      )\n",
       "      (convs2): ModuleList(\n",
       "        (0): Conv1d(64, 64, kernel_size=(3,), stride=(1,), padding=(1,))\n",
       "        (1): Conv1d(64, 64, kernel_size=(3,), stride=(1,), padding=(1,))\n",
       "        (2): Conv1d(64, 64, kernel_size=(3,), stride=(1,), padding=(1,))\n",
       "      )\n",
       "    )\n",
       "    (7): ResBlock1(\n",
       "      (convs1): ModuleList(\n",
       "        (0): Conv1d(64, 64, kernel_size=(7,), stride=(1,), padding=(3,))\n",
       "        (1): Conv1d(64, 64, kernel_size=(7,), stride=(1,), padding=(9,), dilation=(3,))\n",
       "        (2): Conv1d(64, 64, kernel_size=(7,), stride=(1,), padding=(15,), dilation=(5,))\n",
       "      )\n",
       "      (convs2): ModuleList(\n",
       "        (0): Conv1d(64, 64, kernel_size=(7,), stride=(1,), padding=(3,))\n",
       "        (1): Conv1d(64, 64, kernel_size=(7,), stride=(1,), padding=(3,))\n",
       "        (2): Conv1d(64, 64, kernel_size=(7,), stride=(1,), padding=(3,))\n",
       "      )\n",
       "    )\n",
       "    (8): ResBlock1(\n",
       "      (convs1): ModuleList(\n",
       "        (0): Conv1d(64, 64, kernel_size=(11,), stride=(1,), padding=(5,))\n",
       "        (1): Conv1d(64, 64, kernel_size=(11,), stride=(1,), padding=(15,), dilation=(3,))\n",
       "        (2): Conv1d(64, 64, kernel_size=(11,), stride=(1,), padding=(25,), dilation=(5,))\n",
       "      )\n",
       "      (convs2): ModuleList(\n",
       "        (0): Conv1d(64, 64, kernel_size=(11,), stride=(1,), padding=(5,))\n",
       "        (1): Conv1d(64, 64, kernel_size=(11,), stride=(1,), padding=(5,))\n",
       "        (2): Conv1d(64, 64, kernel_size=(11,), stride=(1,), padding=(5,))\n",
       "      )\n",
       "    )\n",
       "    (9): ResBlock1(\n",
       "      (convs1): ModuleList(\n",
       "        (0): Conv1d(32, 32, kernel_size=(3,), stride=(1,), padding=(1,))\n",
       "        (1): Conv1d(32, 32, kernel_size=(3,), stride=(1,), padding=(3,), dilation=(3,))\n",
       "        (2): Conv1d(32, 32, kernel_size=(3,), stride=(1,), padding=(5,), dilation=(5,))\n",
       "      )\n",
       "      (convs2): ModuleList(\n",
       "        (0): Conv1d(32, 32, kernel_size=(3,), stride=(1,), padding=(1,))\n",
       "        (1): Conv1d(32, 32, kernel_size=(3,), stride=(1,), padding=(1,))\n",
       "        (2): Conv1d(32, 32, kernel_size=(3,), stride=(1,), padding=(1,))\n",
       "      )\n",
       "    )\n",
       "    (10): ResBlock1(\n",
       "      (convs1): ModuleList(\n",
       "        (0): Conv1d(32, 32, kernel_size=(7,), stride=(1,), padding=(3,))\n",
       "        (1): Conv1d(32, 32, kernel_size=(7,), stride=(1,), padding=(9,), dilation=(3,))\n",
       "        (2): Conv1d(32, 32, kernel_size=(7,), stride=(1,), padding=(15,), dilation=(5,))\n",
       "      )\n",
       "      (convs2): ModuleList(\n",
       "        (0): Conv1d(32, 32, kernel_size=(7,), stride=(1,), padding=(3,))\n",
       "        (1): Conv1d(32, 32, kernel_size=(7,), stride=(1,), padding=(3,))\n",
       "        (2): Conv1d(32, 32, kernel_size=(7,), stride=(1,), padding=(3,))\n",
       "      )\n",
       "    )\n",
       "    (11): ResBlock1(\n",
       "      (convs1): ModuleList(\n",
       "        (0): Conv1d(32, 32, kernel_size=(11,), stride=(1,), padding=(5,))\n",
       "        (1): Conv1d(32, 32, kernel_size=(11,), stride=(1,), padding=(15,), dilation=(3,))\n",
       "        (2): Conv1d(32, 32, kernel_size=(11,), stride=(1,), padding=(25,), dilation=(5,))\n",
       "      )\n",
       "      (convs2): ModuleList(\n",
       "        (0): Conv1d(32, 32, kernel_size=(11,), stride=(1,), padding=(5,))\n",
       "        (1): Conv1d(32, 32, kernel_size=(11,), stride=(1,), padding=(5,))\n",
       "        (2): Conv1d(32, 32, kernel_size=(11,), stride=(1,), padding=(5,))\n",
       "      )\n",
       "    )\n",
       "  )\n",
       "  (conv_post): Conv1d(32, 1, kernel_size=(7,), stride=(1,), padding=(3,))\n",
       ")"
      ]
     },
     "execution_count": 102,
     "metadata": {},
     "output_type": "execute_result"
    }
   ],
   "source": [
    "vocoder.eval()"
   ]
  },
  {
   "cell_type": "code",
   "execution_count": 68,
   "id": "311e7d39-cabf-43d5-8301-2600949b469c",
   "metadata": {},
   "outputs": [],
   "source": [
    "def text_to_file(user_query: str) -> None:\n",
    "    text_path = Path(\"tmp.txt\")\n",
    "    with open(text_path, \"w\") as fout:\n",
    "        normalized_content = english_cleaners(user_query)\n",
    "        normalized_content = \" \".join(re.findall(\"[a-zA-Z]+\", normalized_content))\n",
    "        fout.write(normalized_content)\n",
    "    subprocess.call(\n",
    "        [\"mfa\", \"g2p\", G2P_MODEL_PATH, text_path.absolute(), G2P_OUTPUT_PATH]\n",
    "    )\n",
    "    text_path.unlink()"
   ]
  },
  {
   "cell_type": "code",
   "execution_count": 65,
   "id": "d9ad11ab-3024-4935-b7d3-5301a319365a",
   "metadata": {},
   "outputs": [],
   "source": [
    "def parse_g2p(PHONEMES_TO_IDS, g2p_path: str = G2P_OUTPUT_PATH):\n",
    "    with open(g2p_path, \"r\") as fin:\n",
    "        phonemes_ids = []\n",
    "        phonemes = []\n",
    "        for line in fin:\n",
    "            _, word_to_phones = line.rstrip().split(\"\\t\", 1)\n",
    "            phonemes.extend(word_to_phones.split(\" \"))\n",
    "            phonemes_ids.extend(\n",
    "                [PHONEMES_TO_IDS[ph] for ph in word_to_phones.split(\" \")]\n",
    "            )\n",
    "        phonemes_ids.append(PHONEMES_TO_IDS[\"<PAD>\"])\n",
    "    return phonemes_ids"
   ]
  },
  {
   "cell_type": "code",
   "execution_count": 47,
   "id": "97d7142f-2810-4316-9a24-d04525d6a3d8",
   "metadata": {},
   "outputs": [],
   "source": [
    "checkpoints_path = Path(\"checkpoints/\")"
   ]
  },
  {
   "cell_type": "code",
   "execution_count": 10,
   "id": "8458e275-7b7d-4333-a0fd-753847bc2370",
   "metadata": {},
   "outputs": [],
   "source": [
    "path = Path(\"mlruns\")"
   ]
  },
  {
   "cell_type": "code",
   "execution_count": 40,
   "id": "21349f74-99be-44d0-bfd4-401ab32700c9",
   "metadata": {},
   "outputs": [],
   "source": [
    "texts = [\n",
    "    \"I can't believe he did it!\",\n",
    "    \"He has abandoned all the traditions here.\",\n",
    "    \"I mean, can you imagine anything more inappropriate?\",\n",
    "    \"That's what the crowd never expected, all of us were astonished to see it.\",\n",
    "    \"Now he wonders why people think he is a bit odd.\",\n",
    "    \"That is insane!\"\n",
    "]"
   ]
  },
  {
   "cell_type": "code",
   "execution_count": 127,
   "id": "7964ca84-3f26-4360-a1c7-6f5be890a25a",
   "metadata": {
    "tags": []
   },
   "outputs": [
    {
     "name": "stdout",
     "output_type": "stream",
     "text": [
      "\u001b[32mINFO\u001b[0m - Generating transcriptions for the 7 word types found in the corpus...\n",
      "Generating pronunciations...\n",
      "\u001b[32mINFO\u001b[0m - Generating transcriptions for the 7 word types found in the corpus...\n",
      "Generating pronunciations...\n",
      "\u001b[32mINFO\u001b[0m - Generating transcriptions for the 8 word types found in the corpus...\n",
      "Generating pronunciations...\n",
      "\u001b[32mINFO\u001b[0m - Generating transcriptions for the 15 word types found in the corpus...\n",
      "Generating pronunciations...\n",
      "\u001b[32mINFO\u001b[0m - Generating transcriptions for the 11 word types found in the corpus...\n",
      "Generating pronunciations...\n",
      "\u001b[32mINFO\u001b[0m - Generating transcriptions for the 3 word types found in the corpus...\n",
      "Generating pronunciations...\n",
      "\u001b[32mINFO\u001b[0m - Generating transcriptions for the 7 word types found in the corpus...\n",
      "Generating pronunciations...\n",
      "\u001b[32mINFO\u001b[0m - Generating transcriptions for the 7 word types found in the corpus...\n",
      "Generating pronunciations...\n",
      "\u001b[32mINFO\u001b[0m - Generating transcriptions for the 8 word types found in the corpus...\n",
      "Generating pronunciations...\n",
      "\u001b[32mINFO\u001b[0m - Generating transcriptions for the 15 word types found in the corpus...\n",
      "Generating pronunciations...\n",
      "\u001b[32mINFO\u001b[0m - Generating transcriptions for the 11 word types found in the corpus...\n",
      "Generating pronunciations...\n",
      "\u001b[32mINFO\u001b[0m - Generating transcriptions for the 3 word types found in the corpus...\n",
      "Generating pronunciations...\n",
      "\u001b[32mINFO\u001b[0m - Generating transcriptions for the 7 word types found in the corpus...\n",
      "Generating pronunciations...\n",
      "\u001b[32mINFO\u001b[0m - Generating transcriptions for the 7 word types found in the corpus...\n",
      "Generating pronunciations...\n",
      "\u001b[32mINFO\u001b[0m - Generating transcriptions for the 8 word types found in the corpus...\n",
      "Generating pronunciations...\n",
      "\u001b[32mINFO\u001b[0m - Generating transcriptions for the 15 word types found in the corpus...\n",
      "Generating pronunciations...\n",
      "\u001b[32mINFO\u001b[0m - Generating transcriptions for the 11 word types found in the corpus...\n",
      "Generating pronunciations...\n",
      "\u001b[32mINFO\u001b[0m - Generating transcriptions for the 3 word types found in the corpus...\n",
      "Generating pronunciations...\n"
     ]
    }
   ],
   "source": [
    "exp_to_phonemes = {}\n",
    "for i in [3, 7, 15]:\n",
    "    exp_id = mlflow.get_experiment_by_name(f\"esd_vctk_{i}\").experiment_id\n",
    "    with open(f\"checkpoints/esd_vctk_{i}/feature/phonemes.json\") as f:\n",
    "        phonemes_to_ids = json.load(f)\n",
    "    phonemes_list = []\n",
    "    for t in texts:\n",
    "        text_to_file(t)\n",
    "        phoneme_ids = parse_g2p(phonemes_to_ids)\n",
    "        phonemes_list.append(phoneme_ids)\n",
    "    exp_to_phonemes[exp_id] = phonemes_list"
   ]
  },
  {
   "cell_type": "code",
   "execution_count": 87,
   "id": "686b662e-c46d-4a90-b482-53477f81d217",
   "metadata": {},
   "outputs": [],
   "source": [
    "exp_to_speakers = {}\n",
    "for i in [3, 7, 15]:\n",
    "    exp_id = mlflow.get_experiment_by_name(f\"esd_vctk_{i}\").experiment_id\n",
    "    with open(f\"checkpoints/esd_vctk_{i}/feature/speakers.json\") as f:\n",
    "        speaker_to_ids = json.load(f)\n",
    "    exp_to_speakers[exp_id] = {k: v for k, v in speaker_to_ids.items() if not k.startswith(\"p\")}"
   ]
  },
  {
   "cell_type": "code",
   "execution_count": 97,
   "id": "aa746035-c9f2-4fe5-8a4f-3cb8bb9f77fe",
   "metadata": {},
   "outputs": [],
   "source": [
    "exp_id_to_name = {}\n",
    "for i in [3, 7, 15]:\n",
    "    exp_id = mlflow.get_experiment_by_name(f\"esd_vctk_{i}\").experiment_id\n",
    "    exp_id_to_name[exp_id] = f\"esd_vctk_{i}\""
   ]
  },
  {
   "cell_type": "code",
   "execution_count": 98,
   "id": "9bc8ff4e-5451-40ed-b5d4-53130ba68dad",
   "metadata": {},
   "outputs": [
    {
     "data": {
      "text/plain": [
       "{'2': 'esd_vctk_3', '1': 'esd_vctk_7', '3': 'esd_vctk_15'}"
      ]
     },
     "execution_count": 98,
     "metadata": {},
     "output_type": "execute_result"
    }
   ],
   "source": [
    "exp_id_to_name"
   ]
  },
  {
   "cell_type": "code",
   "execution_count": 134,
   "id": "6b9717e3-adca-4ee0-9e32-925ae39179a8",
   "metadata": {},
   "outputs": [
    {
     "name": "stdout",
     "output_type": "stream",
     "text": [
      "/bin/bash: /home/uadmin/miniconda3/envs/emotts/lib/libtinfo.so.6: no version information available (required by /bin/bash)\n",
      "total 304628\n",
      "-rw-rw-r-- 1 uadmin uadmin        28 Jan 30 11:20 pickle_module_info.txt\n",
      "-rw-rw-r-- 1 uadmin uadmin 311934937 Jan 30 11:20 model.pth\n"
     ]
    }
   ],
   "source": [
    "!ls -lr mlruns/1/00d98c4d3b1448dd8270eee06cf509e1/artifacts/checkpoints/esd_vctk_7/feature/feature_model.pth/data/"
   ]
  },
  {
   "cell_type": "code",
   "execution_count": 76,
   "id": "5e3fa579-b436-4aa8-9e33-bb728116796a",
   "metadata": {},
   "outputs": [],
   "source": [
    "p = list(path.rglob(\"model.pth\"))"
   ]
  },
  {
   "cell_type": "code",
   "execution_count": 84,
   "id": "6abef25e-8e3e-40c3-b88e-52cf4b2068b5",
   "metadata": {},
   "outputs": [],
   "source": [
    "exp_index = 7\n",
    "run_index = 6"
   ]
  },
  {
   "cell_type": "code",
   "execution_count": 141,
   "id": "c4ee11d1-62eb-44ba-9ba5-5059cfc06d94",
   "metadata": {},
   "outputs": [],
   "source": [
    "def get_tacotron_batch(\n",
    "    phonemes_ids, reference, speaker_id, device, mels_mean, mels_std\n",
    "):\n",
    "    text_lengths_tensor = torch.LongTensor([len(phonemes_ids)])\n",
    "    reference = (reference - mels_mean) / mels_std\n",
    "    reference = reference.permute(0, 2, 1).to(device)\n",
    "    phonemes_ids_tensor = torch.LongTensor(phonemes_ids).unsqueeze(0).to(device)\n",
    "    speaker_ids_tensor = torch.LongTensor([speaker_id]).to(device)\n",
    "    return phonemes_ids_tensor, text_lengths_tensor, speaker_ids_tensor, reference"
   ]
  },
  {
   "cell_type": "code",
   "execution_count": 91,
   "id": "16bda806-58d1-4a20-8aac-2219004db025",
   "metadata": {},
   "outputs": [],
   "source": [
    "reference_pathes = Path(\"references/\")"
   ]
  },
  {
   "cell_type": "code",
   "execution_count": 93,
   "id": "f15bfa28-4225-41ed-811a-b789ac53fb26",
   "metadata": {},
   "outputs": [
    {
     "data": {
      "text/plain": [
       "'happy'"
      ]
     },
     "execution_count": 93,
     "metadata": {},
     "output_type": "execute_result"
    }
   ],
   "source": [
    "list((reference_pathes / \"0011\").rglob(\"*.pkl\"))[0].stem"
   ]
  },
  {
   "cell_type": "code",
   "execution_count": 110,
   "id": "0f18e587-d1d0-4377-9a6b-d29de11c682d",
   "metadata": {},
   "outputs": [],
   "source": [
    "generated_path = Path(\"generated_custom\")"
   ]
  },
  {
   "cell_type": "code",
   "execution_count": 142,
   "id": "085f0643-cf9c-4f16-932a-a093af53303b",
   "metadata": {},
   "outputs": [
    {
     "ename": "KeyError",
     "evalue": "'4'",
     "output_type": "error",
     "traceback": [
      "\u001b[0;31m---------------------------------------------------------------------------\u001b[0m",
      "\u001b[0;31mKeyError\u001b[0m                                  Traceback (most recent call last)",
      "\u001b[0;32m/tmp/ipykernel_4219/623892942.py\u001b[0m in \u001b[0;36m<module>\u001b[0;34m\u001b[0m\n\u001b[1;32m      5\u001b[0m     \u001b[0mexp_id\u001b[0m \u001b[0;34m=\u001b[0m \u001b[0mlist\u001b[0m\u001b[0;34m(\u001b[0m\u001b[0mmp\u001b[0m\u001b[0;34m.\u001b[0m\u001b[0mparents\u001b[0m\u001b[0;34m)\u001b[0m\u001b[0;34m[\u001b[0m\u001b[0mexp_index\u001b[0m\u001b[0;34m]\u001b[0m\u001b[0;34m.\u001b[0m\u001b[0mname\u001b[0m\u001b[0;34m\u001b[0m\u001b[0;34m\u001b[0m\u001b[0m\n\u001b[1;32m      6\u001b[0m     \u001b[0mrun_id\u001b[0m \u001b[0;34m=\u001b[0m \u001b[0mlist\u001b[0m\u001b[0;34m(\u001b[0m\u001b[0mmp\u001b[0m\u001b[0;34m.\u001b[0m\u001b[0mparents\u001b[0m\u001b[0;34m)\u001b[0m\u001b[0;34m[\u001b[0m\u001b[0mrun_index\u001b[0m\u001b[0;34m]\u001b[0m\u001b[0;34m.\u001b[0m\u001b[0mname\u001b[0m\u001b[0;34m\u001b[0m\u001b[0;34m\u001b[0m\u001b[0m\n\u001b[0;32m----> 7\u001b[0;31m     \u001b[0mspeakers\u001b[0m \u001b[0;34m=\u001b[0m \u001b[0mexp_to_speakers\u001b[0m\u001b[0;34m[\u001b[0m\u001b[0mexp_id\u001b[0m\u001b[0;34m]\u001b[0m\u001b[0;34m\u001b[0m\u001b[0;34m\u001b[0m\u001b[0m\n\u001b[0m\u001b[1;32m      8\u001b[0m     \u001b[0mexp_name\u001b[0m \u001b[0;34m=\u001b[0m \u001b[0mexp_id_to_name\u001b[0m\u001b[0;34m[\u001b[0m\u001b[0mexp_id\u001b[0m\u001b[0;34m]\u001b[0m\u001b[0;34m\u001b[0m\u001b[0;34m\u001b[0m\u001b[0m\n\u001b[1;32m      9\u001b[0m     \u001b[0mmels_mean\u001b[0m \u001b[0;34m=\u001b[0m \u001b[0mtorch\u001b[0m\u001b[0;34m.\u001b[0m\u001b[0mload\u001b[0m\u001b[0;34m(\u001b[0m\u001b[0;34mf\"checkpoints/{exp_name}/feature/mels_mean.pth\"\u001b[0m\u001b[0;34m)\u001b[0m\u001b[0;34m.\u001b[0m\u001b[0mto\u001b[0m\u001b[0;34m(\u001b[0m\u001b[0;34m\"cpu\"\u001b[0m\u001b[0;34m)\u001b[0m\u001b[0;34m.\u001b[0m\u001b[0mfloat\u001b[0m\u001b[0;34m(\u001b[0m\u001b[0;34m)\u001b[0m\u001b[0;34m\u001b[0m\u001b[0;34m\u001b[0m\u001b[0m\n",
      "\u001b[0;31mKeyError\u001b[0m: '4'"
     ]
    }
   ],
   "source": [
    "for mp in p:\n",
    "    model = torch.load(mp)\n",
    "    model.to(device)\n",
    "    model.eval()\n",
    "    exp_id = list(mp.parents)[exp_index].name\n",
    "    run_id = list(mp.parents)[run_index].name\n",
    "    speakers = exp_to_speakers[exp_id]\n",
    "    exp_name = exp_id_to_name[exp_id]\n",
    "    mels_mean = torch.load(f\"checkpoints/{exp_name}/feature/mels_mean.pth\").to(\"cpu\").float()\n",
    "    mels_std = torch.load(f\"checkpoints/{exp_name}/feature/mels_std.pth\").to(\"cpu\").float()\n",
    "    for speaker, speaker_id in speakers.items():\n",
    "        for reference in (reference_pathes / speaker).rglob(\"*.pkl\"):\n",
    "            emo = reference.stem\n",
    "            ref_mel = torch.load(reference)\n",
    "            save_path = generated_path / exp_id / run_id / speaker / emo\n",
    "            save_path.mkdir(exist_ok=True, parents=True)\n",
    "            for i, phonemes_ids in enumerate(exp_to_phonemes[exp_id]):\n",
    "                batch = get_tacotron_batch(phonemes_ids, ref_mel, speaker_id, device, mels_mean, mels_std)\n",
    "                with torch.no_grad():\n",
    "                    mels = model.inference(batch)\n",
    "                    mels = mels.permute(0, 2, 1).squeeze(0)\n",
    "                    mels = mels * mels_std.to(device) + mels_mean.to(device)\n",
    "                    x = mels.unsqueeze(0)\n",
    "                    y_g_hat = vocoder(x)\n",
    "                    audio = y_g_hat.squeeze()\n",
    "                    audio = audio * 32768\n",
    "                    audio = audio.type(torch.int16).detach().cpu().numpy()\n",
    "                    wav_write(save_path / f\"{i + 1}.wav\", 22050, audio)"
   ]
  },
  {
   "cell_type": "code",
   "execution_count": null,
   "id": "814a307f-f9fd-4abb-a53a-b2e9ad2a0e82",
   "metadata": {},
   "outputs": [],
   "source": []
  },
  {
   "cell_type": "code",
   "execution_count": null,
   "id": "4b0eeb92-c8d3-48c1-8c6d-8fcd155387da",
   "metadata": {},
   "outputs": [],
   "source": []
  }
 ],
 "metadata": {
  "kernelspec": {
   "display_name": "Python 3 (ipykernel)",
   "language": "python",
   "name": "python3"
  },
  "language_info": {
   "codemirror_mode": {
    "name": "ipython",
    "version": 3
   },
   "file_extension": ".py",
   "mimetype": "text/x-python",
   "name": "python",
   "nbconvert_exporter": "python",
   "pygments_lexer": "ipython3",
   "version": "3.8.12"
  }
 },
 "nbformat": 4,
 "nbformat_minor": 5
}
