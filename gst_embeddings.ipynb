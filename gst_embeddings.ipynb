{
 "cells": [
  {
   "cell_type": "code",
   "execution_count": 1,
   "id": "0701d82c-00f1-463f-ab97-e2e95e61afce",
   "metadata": {},
   "outputs": [],
   "source": [
    "from pathlib import Path\n",
    "\n",
    "import torch\n",
    "\n",
    "from src.models.feature_models import NonAttentiveTacotron, NonAttentiveTacotronVoicePrint\n",
    "from src.constants import CHECKPOINT_DIR, FEATURE_CHECKPOINT_NAME, FEATURE_MODEL_FILENAME, MELS_MEAN_FILENAME, MELS_STD_FILENAME, REFERENCE_PATH"
   ]
  },
  {
   "cell_type": "code",
   "execution_count": 2,
   "id": "b8ce21b0-79d8-4172-bc2e-4d0df639b6fe",
   "metadata": {},
   "outputs": [],
   "source": [
    "CHECKPOINT_NAME = \"test\"\n",
    "DEVICE = \"cuda\""
   ]
  },
  {
   "cell_type": "code",
   "execution_count": 3,
   "id": "ab7ff1e0-36ec-4bc7-b3fc-dde72a6ad5f6",
   "metadata": {},
   "outputs": [],
   "source": [
    "checkpoint_path = CHECKPOINT_DIR / CHECKPOINT_NAME / FEATURE_CHECKPOINT_NAME"
   ]
  },
  {
   "cell_type": "code",
   "execution_count": 4,
   "id": "1e870911-5ba1-4ab8-9e8f-e4d00e8a87bf",
   "metadata": {},
   "outputs": [],
   "source": [
    "model = torch.load(checkpoint_path / FEATURE_MODEL_FILENAME, map_location=DEVICE)"
   ]
  },
  {
   "cell_type": "code",
   "execution_count": 5,
   "id": "a6f7c42d-291f-4239-96c3-44c8ad209b81",
   "metadata": {},
   "outputs": [],
   "source": [
    "model.eval();"
   ]
  },
  {
   "cell_type": "code",
   "execution_count": 6,
   "id": "d3fc55f1-b8f8-4bb3-bb45-c2b7b2c3b909",
   "metadata": {},
   "outputs": [],
   "source": [
    "gst = model.gst"
   ]
  },
  {
   "cell_type": "code",
   "execution_count": 7,
   "id": "a4715c06-983d-40a3-886b-9ebc0ce224cd",
   "metadata": {},
   "outputs": [],
   "source": [
    "mels_std = torch.load(checkpoint_path / MELS_STD_FILENAME, map_location=DEVICE)\n",
    "mels_mean = torch.load(checkpoint_path / MELS_MEAN_FILENAME, map_location=DEVICE)"
   ]
  },
  {
   "cell_type": "code",
   "execution_count": 8,
   "id": "6f36631b-d090-4acf-81ac-c96113531268",
   "metadata": {},
   "outputs": [],
   "source": [
    "result = {}\n",
    "for speaker in REFERENCE_PATH.iterdir():\n",
    "    for emo in speaker.iterdir():\n",
    "        ref_mel = torch.load(emo, map_location=DEVICE)\n",
    "        ref_mel = (ref_mel - mels_mean) / mels_std\n",
    "        emb = gst(ref_mel.unsqueeze(0).permute(0, 2, 1).float())\n",
    "        result[f\"{speaker.name}_{emo.stem}\"] = emb.squeeze()"
   ]
  },
  {
   "cell_type": "code",
   "execution_count": null,
   "id": "fd3c0f5e-20a7-46b8-9995-6a2ba8139584",
   "metadata": {},
   "outputs": [],
   "source": []
  }
 ],
 "metadata": {
  "kernelspec": {
   "display_name": "Python 3 (ipykernel)",
   "language": "python",
   "name": "python3"
  },
  "language_info": {
   "codemirror_mode": {
    "name": "ipython",
    "version": 3
   },
   "file_extension": ".py",
   "mimetype": "text/x-python",
   "name": "python",
   "nbconvert_exporter": "python",
   "pygments_lexer": "ipython3",
   "version": "3.8.12"
  }
 },
 "nbformat": 4,
 "nbformat_minor": 5
}
