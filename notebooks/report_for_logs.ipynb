{
 "cells": [
  {
   "cell_type": "code",
   "execution_count": 18,
   "id": "58e430c0-0fce-44c6-bfc8-75a7b6970f13",
   "metadata": {},
   "outputs": [],
   "source": [
    "import io\n",
    "from pathlib import Path\n",
    "import numpy as np\n",
    "import pandas as pd\n",
    "import soundfile as sf\n",
    "import yaml\n",
    "import tensorboard as tb\n",
    "from tensorboard.backend.event_processing.event_accumulator import EventAccumulator\n",
    "\n",
    "from IPython.display import Audio, HTML\n",
    "from IPython.core.display import display\n",
    "\n",
    "SAMPLE_RATE = 22050\n",
    "CONFIGS_PATH = Path(\"configs\")\n",
    "LOGS_PATH = Path(\"logs\")\n",
    "LOGGED_AUDIOS_NUM = 10"
   ]
  },
  {
   "cell_type": "code",
   "execution_count": 19,
   "id": "ee6e0226-0cbf-4dad-a47d-2da1bccb0a4f",
   "metadata": {},
   "outputs": [],
   "source": [
    "def beep(data):\n",
    "    display(Audio(data, rate=SAMPLE_RATE))"
   ]
  },
  {
   "cell_type": "code",
   "execution_count": null,
   "id": "eaf44936-9b45-42bc-a3fe-13d00f2899d2",
   "metadata": {},
   "outputs": [],
   "source": [
    "pd.set_option('display.max_columns', None)\n",
    "for config_path in CONFIGS_PATH.iterdir():\n",
    "    if config_path.suffix != \".yaml\":\n",
    "        continue\n",
    "    with open(config_path, \"r\") as stream:\n",
    "        try:\n",
    "            config = pd.json_normalize(yaml.safe_load(stream))\n",
    "        except yaml.YAMLError as exc:\n",
    "            print(exc)\n",
    "    \n",
    "    chp_logs_path = LOGS_PATH / f\"{config['checkpoint_name'].values[0]}\"\n",
    "    if chp_logs_path.is_dir():\n",
    "        display(config)\n",
    "        ea = EventAccumulator(chp_logs_path)\n",
    "        ea.Reload() \n",
    "        for audio_idx in range(LOGGED_AUDIOS_NUM):\n",
    "            w_times, _, audio, _, _, _ = zip(*ea.Audio(f\"Audio/Val/{audio_idx}\"))\n",
    "            data, _ = sf.read(io.BytesIO(audio[-1]))\n",
    "            beep(data)"
   ]
  },
  {
   "cell_type": "code",
   "execution_count": null,
   "id": "cd266c1c-ca0a-4c38-8e82-2caebeff6807",
   "metadata": {},
   "outputs": [],
   "source": [
    "# to convert to html\n",
    "#!jupyter nbconvert report_for_logs.ipynb --no-input --to html --output report4logs"
   ]
  }
 ],
 "metadata": {
  "kernelspec": {
   "display_name": "Python 3 (ipykernel)",
   "language": "python",
   "name": "python3"
  },
  "language_info": {
   "codemirror_mode": {
    "name": "ipython",
    "version": 3
   },
   "file_extension": ".py",
   "mimetype": "text/x-python",
   "name": "python",
   "nbconvert_exporter": "python",
   "pygments_lexer": "ipython3",
   "version": "3.9.1"
  }
 },
 "nbformat": 4,
 "nbformat_minor": 5
}
