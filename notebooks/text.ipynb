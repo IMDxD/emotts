{
 "cells": [
  {
   "cell_type": "code",
   "execution_count": null,
   "metadata": {},
   "outputs": [],
   "source": [
    "from pathlib import Path\n",
    "# from shutil import move\n",
    "\n",
    "\n",
    "# # aggregate MFA files by speakers\n",
    "# source_dir = Path('data/processed/mels')\n",
    "\n",
    "# for file in source_dir.iterdir():\n",
    "#     file_name = file.name\n",
    "#     dir_name = file_name.split('_')[0]\n",
    "#     dir_path = file.parent / dir_name\n",
    "#     dir_path.mkdir(exist_ok=True)\n",
    "#     move(str(file), dir_path)"
   ]
  },
  {
   "cell_type": "code",
   "execution_count": null,
   "metadata": {},
   "outputs": [],
   "source": [
    "from src.dataset import VctkDataset\n",
    "\n",
    "\n",
    "dataset = VctkDataset(text_dir='data/processed/mfa_outputs', mels_dir='data/processed/mels')"
   ]
  },
  {
   "cell_type": "code",
   "execution_count": null,
   "metadata": {},
   "outputs": [],
   "source": [
    "for i in range(len(dataset)):\n",
    "    x = sum(dataset[i]['durations'])\n",
    "    y = dataset[i]['mels'].shape[-1]\n",
    "    assert x == y"
   ]
  }
 ],
 "metadata": {
  "interpreter": {
   "hash": "5a080aa9d1b7381953f30d28909ae984f6fab7702369768ce42dba48e871a3e1"
  },
  "kernelspec": {
   "display_name": "Python 3.8.12 64-bit ('emotts': conda)",
   "name": "python3"
  },
  "language_info": {
   "codemirror_mode": {
    "name": "ipython",
    "version": 3
   },
   "file_extension": ".py",
   "mimetype": "text/x-python",
   "name": "python",
   "nbconvert_exporter": "python",
   "pygments_lexer": "ipython3",
   "version": "3.8.12"
  },
  "orig_nbformat": 4
 },
 "nbformat": 4,
 "nbformat_minor": 2
}
