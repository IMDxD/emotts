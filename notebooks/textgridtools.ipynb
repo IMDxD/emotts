{
 "cells": [
  {
   "cell_type": "code",
   "execution_count": 1,
   "metadata": {},
   "outputs": [],
   "source": [
    "import tgt"
   ]
  },
  {
   "cell_type": "code",
   "execution_count": 2,
   "metadata": {},
   "outputs": [],
   "source": [
    "path = '../data/processed/mfa_outputs/p225_001.TextGrid'"
   ]
  },
  {
   "cell_type": "code",
   "execution_count": 3,
   "metadata": {},
   "outputs": [
    {
     "name": "stdout",
     "output_type": "stream",
     "text": [
      "0.09999999999999999 0.08 0.18 P\n",
      "0.06 0.18 0.24 L\n",
      "0.19 0.24 0.43 IY1\n",
      "0.2 0.43 0.63 Z\n",
      "0.12 0.66 0.78 K\n",
      "0.039999999999999925 0.78 0.82 AO1\n",
      "0.17000000000000004 0.82 0.99 L\n",
      "0.1200000000000001 0.99 1.11 S\n",
      "0.06999999999999984 1.11 1.18 T\n",
      "0.08000000000000007 1.18 1.26 EH1\n",
      "0.050000000000000044 1.26 1.31 L\n",
      "0.27 1.31 1.58 AH0\n"
     ]
    }
   ],
   "source": [
    "# read TextGrid file:\n",
    "x = tgt.read_textgrid(path)\n",
    "\n",
    "# get phones tier:\n",
    "phones_tier = x.get_tier_by_name('phones')\n",
    "\n",
    "# whole interval duration:\n",
    "duration = phones_tier.end_time - phones_tier.start_time\n",
    "\n",
    "# phones attributes:\n",
    "for interval in phones_tier.intervals:\n",
    "    print(interval.duration(), interval.start_time, interval.end_time, interval.text)"
   ]
  },
  {
   "cell_type": "code",
   "execution_count": null,
   "metadata": {},
   "outputs": [],
   "source": []
  }
 ],
 "metadata": {
  "interpreter": {
   "hash": "5a080aa9d1b7381953f30d28909ae984f6fab7702369768ce42dba48e871a3e1"
  },
  "kernelspec": {
   "display_name": "Python 3.8.12 64-bit ('emotts': conda)",
   "name": "python3"
  },
  "language_info": {
   "codemirror_mode": {
    "name": "ipython",
    "version": 3
   },
   "file_extension": ".py",
   "mimetype": "text/x-python",
   "name": "python",
   "nbconvert_exporter": "python",
   "pygments_lexer": "ipython3",
   "version": "3.8.12"
  },
  "orig_nbformat": 4
 },
 "nbformat": 4,
 "nbformat_minor": 2
}
