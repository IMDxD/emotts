{
 "cells": [
  {
   "cell_type": "code",
   "execution_count": 1,
   "metadata": {},
   "outputs": [],
   "source": [
    "from pathlib import Path\n",
    "\n",
    "import torch\n",
    "from tqdm import tqdm"
   ]
  },
  {
   "cell_type": "code",
   "execution_count": 3,
   "metadata": {},
   "outputs": [
    {
     "name": "stderr",
     "output_type": "stream",
     "text": [
      "Downloading: \"https://github.com/snakers4/silero-vad/archive/master.zip\" to /home/uadmin/.cache/torch/hub/master.zip\n"
     ]
    }
   ],
   "source": [
    "SAMPLE_RATE = 48000\n",
    "\n",
    "\n",
    "# torch.set_num_threads(1)\n",
    "\n",
    "model, utils = torch.hub.load(repo_or_dir='snakers4/silero-vad',\n",
    "                              model='silero_vad',\n",
    "                              force_reload=False)\n",
    "\n",
    "(_,  # get_speech_ts\n",
    " get_speech_ts_adaptive,\n",
    " save_audio,\n",
    " read_audio,\n",
    " _,  # state_generator\n",
    " _,  # single_audio_stream\n",
    " collect_chunks) = utils"
   ]
  },
  {
   "cell_type": "code",
   "execution_count": 4,
   "metadata": {},
   "outputs": [
    {
     "name": "stderr",
     "output_type": "stream",
     "text": [
      "  0%|          | 0/704 [00:00<?, ?it/s]"
     ]
    },
    {
     "name": "stdout",
     "output_type": "stream",
     "text": [
      "Number of audio files found: 704\n",
      "Performing pausation cutting...\n"
     ]
    },
    {
     "name": "stderr",
     "output_type": "stream",
     "text": [
      "/home/uadmin/.local/lib/python3.8/site-packages/torch/nn/modules/module.py:889: UserWarning: stft will soon require the return_complex parameter be given for real inputs, and will further require that return_complex=True in a future PyTorch release. (Triggered internally at  /pytorch/aten/src/ATen/native/SpectralOps.cpp:639.)\n",
      "  result = self.forward(*input, **kwargs)\n",
      "100%|██████████| 704/704 [01:11<00:00,  9.89it/s]\n"
     ]
    }
   ],
   "source": [
    "path = Path('data/audio/raw')\n",
    "processed_path = Path('data/audio/processed')\n",
    "processed_path.mkdir(exist_ok=True)\n",
    "\n",
    "filepath_list = list(path.rglob('*.flac'))\n",
    "print(f'Number of audio files found: {len(filepath_list)}')\n",
    "print('Performing pausation cutting...')\n",
    "\n",
    "for file in tqdm(filepath_list):\n",
    "     wave_tensor = read_audio(file, target_sr=SAMPLE_RATE)\n",
    "     speech_timestamps = get_speech_ts_adaptive(wave_tensor, model)\n",
    "     speaker_dir = processed_path / file.parent.name\n",
    "     speaker_dir.mkdir(exist_ok=True)\n",
    "     save_audio(\n",
    "          speaker_dir / file.name,\n",
    "          collect_chunks(speech_timestamps, wave_tensor),\n",
    "          SAMPLE_RATE\n",
    "     )"
   ]
  },
  {
   "cell_type": "code",
   "execution_count": null,
   "metadata": {},
   "outputs": [],
   "source": []
  }
 ],
 "metadata": {
  "interpreter": {
   "hash": "5a080aa9d1b7381953f30d28909ae984f6fab7702369768ce42dba48e871a3e1"
  },
  "kernelspec": {
   "display_name": "Python 3.8.12 64-bit ('emotts': conda)",
   "name": "python3"
  },
  "language_info": {
   "codemirror_mode": {
    "name": "ipython",
    "version": 3
   },
   "file_extension": ".py",
   "mimetype": "text/x-python",
   "name": "python",
   "nbconvert_exporter": "python",
   "pygments_lexer": "ipython3",
   "version": "3.8.12"
  },
  "orig_nbformat": 4
 },
 "nbformat": 4,
 "nbformat_minor": 2
}
