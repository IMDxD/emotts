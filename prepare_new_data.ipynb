{
 "cells": [
  {
   "cell_type": "code",
   "execution_count": 1,
   "metadata": {},
   "outputs": [],
   "source": [
    "import os\n",
    "import json\n",
    "from math import ceil\n",
    "\n",
    "from shutil import copyfile\n",
    "from pathlib import Path\n",
    "from scipy.io.wavfile import read as wavread"
   ]
  },
  {
   "cell_type": "code",
   "execution_count": 2,
   "metadata": {},
   "outputs": [],
   "source": [
    "minutes = 2.5\n",
    "new_folder = f\"data/esd_vctk_{int(minutes)}\""
   ]
  },
  {
   "cell_type": "code",
   "execution_count": 3,
   "metadata": {},
   "outputs": [],
   "source": [
    "!mkdir $new_folder"
   ]
  },
  {
   "cell_type": "code",
   "execution_count": 4,
   "metadata": {},
   "outputs": [],
   "source": [
    "!cp -r data/esd_vctk_1/* $new_folder"
   ]
  },
  {
   "cell_type": "code",
   "execution_count": 5,
   "metadata": {},
   "outputs": [],
   "source": [
    "with open(\"emo_speaker_file.json\", \"r\") as f:\n",
    "    emo_filelist = json.load(f)"
   ]
  },
  {
   "cell_type": "code",
   "execution_count": 6,
   "metadata": {},
   "outputs": [],
   "source": [
    "time_to_add = (minutes - 1) * 60"
   ]
  },
  {
   "cell_type": "code",
   "execution_count": 7,
   "metadata": {},
   "outputs": [],
   "source": [
    "speakers_to_ignore = [\"0011\", \"0012\", \"0013\", \"0014\", \"0020\"]"
   ]
  },
  {
   "cell_type": "code",
   "execution_count": 8,
   "metadata": {},
   "outputs": [],
   "source": [
    "one_min_wavs = set()\n",
    "one_min_wavs_path = Path(\"data/esd_vctk_1/resampled\")\n",
    "for speaker in speakers_to_ignore:\n",
    "    one_min_wavs |= {file.stem for file in (one_min_wavs_path / speaker).rglob(\"*.wav\")}"
   ]
  },
  {
   "cell_type": "code",
   "execution_count": 9,
   "metadata": {},
   "outputs": [],
   "source": [
    "orig_wav_path = Path(r\"data/esd_vctk/resampled\")\n",
    "speaker_added_minutes = {s: {emo: 0 for emo in emo_filelist.keys()} for s in speakers_to_ignore}\n",
    "speaker_added_files = {s: [] for s in speakers_to_ignore}\n",
    "c = 0\n",
    "for speaker in speakers_to_ignore:\n",
    "    path_to_speaker_wavs = orig_wav_path / speaker\n",
    "    speaker_orig_wavs = {file.stem for file in path_to_speaker_wavs.rglob(\"*.wav\")}\n",
    "    for emo in emo_filelist.keys():\n",
    "        files_to_check = [file for file in emo_filelist[emo][speaker] if file in speaker_orig_wavs]\n",
    "        for file in files_to_check:\n",
    "            if file not in one_min_wavs and speaker_added_minutes[speaker][emo] < time_to_add:\n",
    "                sr, wav = wavread(path_to_speaker_wavs / f\"{file}.wav\")\n",
    "                wav_time = wav.shape[0] / sr\n",
    "                speaker_added_minutes[speaker][emo] += wav_time\n",
    "                speaker_added_files[speaker].append(file)\n",
    "            else:\n",
    "                c += 1"
   ]
  },
  {
   "cell_type": "code",
   "execution_count": 10,
   "metadata": {},
   "outputs": [],
   "source": [
    "orig_path = Path(r\"data/esd_vctk\")\n",
    "copy_path = Path(new_folder)\n",
    "for folder in os.listdir(orig_path):\n",
    "    files_folder = os.listdir(orig_path / folder / \"0017\")\n",
    "    ext = files_folder[0].split(\".\")[-1]\n",
    "    for speaker, filelist in speaker_added_files.items():\n",
    "        for file in filelist:\n",
    "            copyfile(orig_path / folder / speaker / f\"{file}.{ext}\", copy_path / folder / speaker / f\"{file}.{ext}\")\n"
   ]
  },
  {
   "cell_type": "code",
   "execution_count": 11,
   "metadata": {},
   "outputs": [
    {
     "name": "stdout",
     "output_type": "stream",
     "text": [
      "0011 2.7\n",
      "0012 2.7\n",
      "0013 2.7\n",
      "0014 2.8\n",
      "0020 2.8\n"
     ]
    }
   ],
   "source": [
    "speaker_time = 0\n",
    "for speaker in speaker_added_files.keys():\n",
    "    speaker_time = 0\n",
    "    for file in (Path(new_folder) / \"resampled\" / speaker).rglob(\"*.wav\"):\n",
    "        sr, wav = wavread(file)\n",
    "        wav_time = wav.shape[0] / sr\n",
    "        speaker_time += wav_time\n",
    "    print(speaker, round(speaker_time / 5 / 60, 1))"
   ]
  },
  {
   "cell_type": "code",
   "execution_count": null,
   "metadata": {},
   "outputs": [],
   "source": []
  }
 ],
 "metadata": {
  "interpreter": {
   "hash": "6b4293ca89835f41c271b43a9966eb5575fd27abf26dc2573ce1dda2add27069"
  },
  "kernelspec": {
   "display_name": "Python 3.8.0 ('made-emotts')",
   "language": "python",
   "name": "python3"
  },
  "language_info": {
   "codemirror_mode": {
    "name": "ipython",
    "version": 3
   },
   "file_extension": ".py",
   "mimetype": "text/x-python",
   "name": "python",
   "nbconvert_exporter": "python",
   "pygments_lexer": "ipython3",
   "version": "3.8.0"
  },
  "orig_nbformat": 4
 },
 "nbformat": 4,
 "nbformat_minor": 2
}
