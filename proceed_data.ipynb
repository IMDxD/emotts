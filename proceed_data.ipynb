{
 "cells": [
  {
   "cell_type": "code",
   "execution_count": 1,
   "metadata": {},
   "outputs": [],
   "source": [
    "import os\n",
    "from pathlib import Path\n",
    "\n",
    "import pandas as pd\n",
    "import re"
   ]
  },
  {
   "cell_type": "code",
   "execution_count": 2,
   "metadata": {},
   "outputs": [],
   "source": [
    "review_path = Path(\"data/esd_done/\")\n",
    "\n",
    "df = None\n",
    "for file in review_path.rglob(\"*.xlsx\"):\n",
    "    if df is None:\n",
    "        df = pd.read_excel(file, engine=\"openpyxl\")\n",
    "    else:\n",
    "        df = pd.concat([df, pd.read_excel(file, engine=\"openpyxl\")], ignore_index=True)"
   ]
  },
  {
   "cell_type": "code",
   "execution_count": 3,
   "metadata": {},
   "outputs": [],
   "source": [
    "df['speaker'] = df['filename'].str.split(\"_\").apply(lambda x: x[0][1:])"
   ]
  },
  {
   "cell_type": "code",
   "execution_count": 4,
   "metadata": {},
   "outputs": [
    {
     "data": {
      "text/html": [
       "<div>\n",
       "<style scoped>\n",
       "    .dataframe tbody tr th:only-of-type {\n",
       "        vertical-align: middle;\n",
       "    }\n",
       "\n",
       "    .dataframe tbody tr th {\n",
       "        vertical-align: top;\n",
       "    }\n",
       "\n",
       "    .dataframe thead th {\n",
       "        text-align: right;\n",
       "    }\n",
       "</style>\n",
       "<table border=\"1\" class=\"dataframe\">\n",
       "  <thead>\n",
       "    <tr style=\"text-align: right;\">\n",
       "      <th></th>\n",
       "      <th>filename</th>\n",
       "      <th>text</th>\n",
       "      <th>modified text</th>\n",
       "      <th>accept</th>\n",
       "      <th>reject</th>\n",
       "      <th>comment</th>\n",
       "      <th>doubt</th>\n",
       "      <th>speaker</th>\n",
       "    </tr>\n",
       "  </thead>\n",
       "  <tbody>\n",
       "    <tr>\n",
       "      <th>0</th>\n",
       "      <td>F0016_angry_0016_000351</td>\n",
       "      <td>The nine the eggs , I keep .</td>\n",
       "      <td>NaN</td>\n",
       "      <td>accepted</td>\n",
       "      <td>NaN</td>\n",
       "      <td>NaN</td>\n",
       "      <td>NaN</td>\n",
       "      <td>0016</td>\n",
       "    </tr>\n",
       "    <tr>\n",
       "      <th>1</th>\n",
       "      <td>F0016_angry_0016_000352</td>\n",
       "      <td>I did go , and made many prisoners .</td>\n",
       "      <td>NaN</td>\n",
       "      <td>accepted</td>\n",
       "      <td>NaN</td>\n",
       "      <td>NaN</td>\n",
       "      <td>NaN</td>\n",
       "      <td>0016</td>\n",
       "    </tr>\n",
       "    <tr>\n",
       "      <th>2</th>\n",
       "      <td>F0016_angry_0016_000353</td>\n",
       "      <td>That I owe my thanks to you .</td>\n",
       "      <td>NaN</td>\n",
       "      <td>accepted</td>\n",
       "      <td>NaN</td>\n",
       "      <td>NaN</td>\n",
       "      <td>NaN</td>\n",
       "      <td>0016</td>\n",
       "    </tr>\n",
       "    <tr>\n",
       "      <th>3</th>\n",
       "      <td>F0016_angry_0016_000354</td>\n",
       "      <td>They went up to the dark mass job had pointed ...</td>\n",
       "      <td>NaN</td>\n",
       "      <td>accepted</td>\n",
       "      <td>NaN</td>\n",
       "      <td>NaN</td>\n",
       "      <td>NaN</td>\n",
       "      <td>0016</td>\n",
       "    </tr>\n",
       "    <tr>\n",
       "      <th>4</th>\n",
       "      <td>F0016_angry_0016_000355</td>\n",
       "      <td>Clear than clear water !</td>\n",
       "      <td>NaN</td>\n",
       "      <td>accepted</td>\n",
       "      <td>NaN</td>\n",
       "      <td>NaN</td>\n",
       "      <td>NaN</td>\n",
       "      <td>0016</td>\n",
       "    </tr>\n",
       "  </tbody>\n",
       "</table>\n",
       "</div>"
      ],
      "text/plain": [
       "                  filename                                               text  \\\n",
       "0  F0016_angry_0016_000351                       The nine the eggs , I keep .   \n",
       "1  F0016_angry_0016_000352               I did go , and made many prisoners .   \n",
       "2  F0016_angry_0016_000353                      That I owe my thanks to you .   \n",
       "3  F0016_angry_0016_000354  They went up to the dark mass job had pointed ...   \n",
       "4  F0016_angry_0016_000355                           Clear than clear water !   \n",
       "\n",
       "  modified text    accept reject comment  doubt speaker  \n",
       "0           NaN  accepted    NaN     NaN    NaN    0016  \n",
       "1           NaN  accepted    NaN     NaN    NaN    0016  \n",
       "2           NaN  accepted    NaN     NaN    NaN    0016  \n",
       "3           NaN  accepted    NaN     NaN    NaN    0016  \n",
       "4           NaN  accepted    NaN     NaN    NaN    0016  "
      ]
     },
     "execution_count": 4,
     "metadata": {},
     "output_type": "execute_result"
    }
   ],
   "source": [
    "df.head()"
   ]
  },
  {
   "cell_type": "code",
   "execution_count": 8,
   "metadata": {},
   "outputs": [],
   "source": [
    "folders = [\"train\", \"evaluation\", \"test\"]\n",
    "\n",
    "datapath = Path(\"data/esd\")\n",
    "\n",
    "for speaker in os.listdir(datapath):\n",
    "    wav_dir = datapath / speaker / \"wav\"\n",
    "    wav_dir.mkdir(exist_ok=True, parents=True)\n",
    "    \n",
    "    for emo in [\"Angry\", \"Happy\", \"Neutral\", \"Sad\", \"Surprise\"]:\n",
    "        if not (datapath / speaker / emo ).is_dir():\n",
    "            continue\n",
    "        for folder in folders:\n",
    "            for file in os.listdir(datapath / speaker / emo / folder):\n",
    "                os.replace(datapath / speaker / emo / folder / file, wav_dir / f\"{emo}_{file}\")\n",
    "            if (datapath / speaker / emo / folder).is_dir():\n",
    "                os.removedirs(datapath / speaker / emo / folder)\n",
    "        if (datapath / speaker / emo ).is_dir():\n",
    "            os.removedirs(datapath / speaker / emo)"
   ]
  },
  {
   "cell_type": "code",
   "execution_count": 9,
   "metadata": {},
   "outputs": [],
   "source": [
    "for speaker in os.listdir(datapath):\n",
    "    wav_dir = datapath / speaker / \"wav\"\n",
    "    for file in os.listdir(wav_dir):\n",
    "        os.replace(wav_dir / file, wav_dir / file.split(\"_\", 1)[1])\n"
   ]
  },
  {
   "cell_type": "code",
   "execution_count": 219,
   "metadata": {},
   "outputs": [],
   "source": [
    "encodings = {\n",
    "    \"0011\": \"ascii\",\n",
    "    \"0012\": \"utf16\",\n",
    "    \"0013\": \"utf16\",\n",
    "    \"0014\": \"utf16\",\n",
    "    \"0015\": \"ascii\",\n",
    "    \"0016\": \"iso8859\",\n",
    "    \"0017\": \"iso8859\",\n",
    "    \"0018\": \"utf16\",\n",
    "    \"0020\": \"ascii\",\n",
    "}"
   ]
  },
  {
   "cell_type": "code",
   "execution_count": 233,
   "metadata": {},
   "outputs": [],
   "source": [
    "import tgt"
   ]
  },
  {
   "cell_type": "code",
   "execution_count": 247,
   "metadata": {},
   "outputs": [],
   "source": [
    "for speaker in os.listdir(datapath):\n",
    "    for file in os.listdir(f\"data/esd_vctk/mfa_outputs/{speaker}/\"):\n",
    "        if os.path.isdir(f\"data/esd_vctk/mfa_outputs/{speaker}/{file}\"):\n",
    "            continue\n",
    "        text_grid = tgt.read_textgrid(f\"data/esd_vctk/mfa_outputs/{speaker}/{file}\")\n",
    "        words = text_grid.get_tier_by_name(\"words\")\n",
    "        text = \" \".join([x.text for x in words.intervals])\n",
    "        with open(datapath / speaker / f\"{file.replace('TextGrid', 'txt')}\", \"w\") as f:\n",
    "            f.write(text + \"\\n\")"
   ]
  },
  {
   "cell_type": "code",
   "execution_count": 248,
   "metadata": {},
   "outputs": [],
   "source": [
    "rejected = df[df[\"accept\"].isnull()]"
   ]
  },
  {
   "cell_type": "code",
   "execution_count": 250,
   "metadata": {},
   "outputs": [],
   "source": [
    "for filename, speaker in zip(rejected[\"filename\"], rejected[\"speaker\"]):\n",
    "    if os.path.isfile(f\"data/esd/{speaker}/{filename}.wav\"):\n",
    "        os.remove(f\"data/esd/{speaker}/{filename}.wav\")\n",
    "    if os.path.isfile(f\"data/esd/{speaker}/{filename}.txt\"):\n",
    "        os.remove(f\"data/esd/{speaker}/{filename}.txt\")"
   ]
  },
  {
   "cell_type": "code",
   "execution_count": 251,
   "metadata": {},
   "outputs": [],
   "source": [
    "modified = df[df[\"accept\"] == \"modified\"]"
   ]
  },
  {
   "cell_type": "code",
   "execution_count": 252,
   "metadata": {},
   "outputs": [
    {
     "data": {
      "text/html": [
       "<div>\n",
       "<style scoped>\n",
       "    .dataframe tbody tr th:only-of-type {\n",
       "        vertical-align: middle;\n",
       "    }\n",
       "\n",
       "    .dataframe tbody tr th {\n",
       "        vertical-align: top;\n",
       "    }\n",
       "\n",
       "    .dataframe thead th {\n",
       "        text-align: right;\n",
       "    }\n",
       "</style>\n",
       "<table border=\"1\" class=\"dataframe\">\n",
       "  <thead>\n",
       "    <tr style=\"text-align: right;\">\n",
       "      <th></th>\n",
       "      <th>filename</th>\n",
       "      <th>text</th>\n",
       "      <th>modified text</th>\n",
       "      <th>accept</th>\n",
       "      <th>reject</th>\n",
       "      <th>comment</th>\n",
       "      <th>doubt</th>\n",
       "      <th>speaker</th>\n",
       "    </tr>\n",
       "  </thead>\n",
       "  <tbody>\n",
       "    <tr>\n",
       "      <th>34</th>\n",
       "      <td>0016_000385</td>\n",
       "      <td>The name really is the agedaged man .</td>\n",
       "      <td>The name really is the adaged man .</td>\n",
       "      <td>modified</td>\n",
       "      <td>NaN</td>\n",
       "      <td>NaN</td>\n",
       "      <td>NaN</td>\n",
       "      <td>0016</td>\n",
       "    </tr>\n",
       "    <tr>\n",
       "      <th>85</th>\n",
       "      <td>0016_000436</td>\n",
       "      <td>And tick a tack too .</td>\n",
       "      <td>And a tick a tack too .</td>\n",
       "      <td>modified</td>\n",
       "      <td>NaN</td>\n",
       "      <td>NaN</td>\n",
       "      <td>NaN</td>\n",
       "      <td>0016</td>\n",
       "    </tr>\n",
       "    <tr>\n",
       "      <th>381</th>\n",
       "      <td>0016_001435</td>\n",
       "      <td>The name really is the agedaged man .</td>\n",
       "      <td>The name really is the adaged man .</td>\n",
       "      <td>modified</td>\n",
       "      <td>NaN</td>\n",
       "      <td>NaN</td>\n",
       "      <td>NaN</td>\n",
       "      <td>0016</td>\n",
       "    </tr>\n",
       "    <tr>\n",
       "      <th>427</th>\n",
       "      <td>0016_001486</td>\n",
       "      <td>And tick a tack too .</td>\n",
       "      <td>And a tick a tack too .</td>\n",
       "      <td>modified</td>\n",
       "      <td>NaN</td>\n",
       "      <td>NaN</td>\n",
       "      <td>NaN</td>\n",
       "      <td>0016</td>\n",
       "    </tr>\n",
       "    <tr>\n",
       "      <th>1423</th>\n",
       "      <td>0015_001024</td>\n",
       "      <td>she caught at the brooch .</td>\n",
       "      <td>And she caught at the brooch .</td>\n",
       "      <td>modified</td>\n",
       "      <td>NaN</td>\n",
       "      <td>NaN</td>\n",
       "      <td>NaN</td>\n",
       "      <td>0015</td>\n",
       "    </tr>\n",
       "  </tbody>\n",
       "</table>\n",
       "</div>"
      ],
      "text/plain": [
       "         filename                                   text  \\\n",
       "34    0016_000385  The name really is the agedaged man .   \n",
       "85    0016_000436                  And tick a tack too .   \n",
       "381   0016_001435  The name really is the agedaged man .   \n",
       "427   0016_001486                  And tick a tack too .   \n",
       "1423  0015_001024             she caught at the brooch .   \n",
       "\n",
       "                            modified text    accept reject comment  doubt  \\\n",
       "34    The name really is the adaged man .  modified    NaN     NaN    NaN   \n",
       "85                And a tick a tack too .  modified    NaN     NaN    NaN   \n",
       "381   The name really is the adaged man .  modified    NaN     NaN    NaN   \n",
       "427               And a tick a tack too .  modified    NaN     NaN    NaN   \n",
       "1423       And she caught at the brooch .  modified    NaN     NaN    NaN   \n",
       "\n",
       "     speaker  \n",
       "34      0016  \n",
       "85      0016  \n",
       "381     0016  \n",
       "427     0016  \n",
       "1423    0015  "
      ]
     },
     "execution_count": 252,
     "metadata": {},
     "output_type": "execute_result"
    }
   ],
   "source": [
    "modified.head()"
   ]
  },
  {
   "cell_type": "code",
   "execution_count": 254,
   "metadata": {},
   "outputs": [],
   "source": [
    "for filename, speaker, orig, modif in zip(modified[\"filename\"], modified[\"speaker\"], modified[\"text\"], modified[\"modified text\"]):\n",
    "    path = datapath / speaker / f\"{filename}.txt\"\n",
    "    with open(path, \"w\") as f:\n",
    "        f.write(modif + \"\\n\")"
   ]
  },
  {
   "cell_type": "code",
   "execution_count": 5,
   "metadata": {},
   "outputs": [
    {
     "data": {
      "text/plain": [
       "array(['0016', '0018', '0015', '0017'], dtype=object)"
      ]
     },
     "execution_count": 5,
     "metadata": {},
     "output_type": "execute_result"
    }
   ],
   "source": [
    "df[\"speaker\"].unique()"
   ]
  },
  {
   "cell_type": "code",
   "execution_count": 5,
   "metadata": {},
   "outputs": [],
   "source": [
    "copy_speakers = list(df[\"speaker\"].unique()) + [s for s in os.listdir(\"data/esd_vctk/resampled/\") if not s.startswith(\"00\")]"
   ]
  },
  {
   "cell_type": "code",
   "execution_count": 6,
   "metadata": {},
   "outputs": [],
   "source": [
    "exclude_speakers = [s for s in os.listdir(\"data/esd_vctk/resampled/\") if s not in copy_speakers]"
   ]
  },
  {
   "cell_type": "code",
   "execution_count": 7,
   "metadata": {},
   "outputs": [
    {
     "data": {
      "text/plain": [
       "['0013', '0012', '0011', '0014', '0020']"
      ]
     },
     "execution_count": 7,
     "metadata": {},
     "output_type": "execute_result"
    }
   ],
   "source": [
    "exclude_speakers"
   ]
  },
  {
   "cell_type": "code",
   "execution_count": 8,
   "metadata": {},
   "outputs": [],
   "source": [
    "percentages = [7, 3, 2, 1, 0.5]"
   ]
  },
  {
   "cell_type": "code",
   "execution_count": 9,
   "metadata": {},
   "outputs": [],
   "source": [
    "from shutil import copy"
   ]
  },
  {
   "cell_type": "code",
   "execution_count": 10,
   "metadata": {},
   "outputs": [],
   "source": [
    "import json"
   ]
  },
  {
   "cell_type": "code",
   "execution_count": 11,
   "metadata": {},
   "outputs": [],
   "source": [
    "with open(\"speaker_emo.json\") as f:\n",
    "    speaker_emo_dict = json.load(f)"
   ]
  },
  {
   "cell_type": "code",
   "execution_count": 12,
   "metadata": {},
   "outputs": [],
   "source": [
    "def get_files(p, speaker):\n",
    "    emo_dict = speaker_emo_dict[speaker]\n",
    "    files = []\n",
    "    for val in emo_dict.values():\n",
    "        to_get = int(p * len(val))\n",
    "        files.extend(val[:to_get])\n",
    "    return files"
   ]
  },
  {
   "cell_type": "code",
   "execution_count": 14,
   "metadata": {},
   "outputs": [],
   "source": [
    "ext_dict = {\n",
    "    \"mels\": \"pkl\",\n",
    "    \"mfa_outputs\": \"TextGrid\",\n",
    "    \"resampled\": \"wav\"\n",
    "}"
   ]
  },
  {
   "cell_type": "code",
   "execution_count": 16,
   "metadata": {},
   "outputs": [],
   "source": [
    "root_path = Path(\"data/esd_vctk/\")\n",
    "\n",
    "for p in percentages:\n",
    "    new_path = Path(f\"data/esd_vctk_{p}/\")\n",
    "    for folder in os.listdir(root_path):\n",
    "        for speaker in copy_speakers:\n",
    "            speaker_path = new_path / folder / speaker\n",
    "            speaker_path.mkdir(exist_ok=True, parents=True)\n",
    "            if (root_path / folder / speaker).is_dir():\n",
    "                for file in os.listdir(root_path / folder / speaker):\n",
    "                    copy(root_path / folder / speaker / file, speaker_path / file)\n",
    "        for speaker in exclude_speakers:\n",
    "            speaker_path = new_path / folder / speaker\n",
    "            speaker_path.mkdir(exist_ok=True, parents=True)\n",
    "            files_copy = get_files(p / 15, speaker)\n",
    "            for file in files_copy:\n",
    "                file = f\"{file}.{ext_dict[folder]}\"\n",
    "                if (root_path / folder / speaker / file).is_file():\n",
    "                    copy(root_path / folder / speaker / file, speaker_path / file)"
   ]
  },
  {
   "cell_type": "code",
   "execution_count": null,
   "metadata": {},
   "outputs": [],
   "source": []
  }
 ],
 "metadata": {
  "interpreter": {
   "hash": "5a080aa9d1b7381953f30d28909ae984f6fab7702369768ce42dba48e871a3e1"
  },
  "kernelspec": {
   "display_name": "Python 3 (ipykernel)",
   "language": "python",
   "name": "python3"
  },
  "language_info": {
   "codemirror_mode": {
    "name": "ipython",
    "version": 3
   },
   "file_extension": ".py",
   "mimetype": "text/x-python",
   "name": "python",
   "nbconvert_exporter": "python",
   "pygments_lexer": "ipython3",
   "version": "3.8.12"
  }
 },
 "nbformat": 4,
 "nbformat_minor": 4
}
