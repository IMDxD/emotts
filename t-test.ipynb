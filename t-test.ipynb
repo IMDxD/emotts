{
 "cells": [
  {
   "cell_type": "code",
   "execution_count": 4,
   "metadata": {},
   "outputs": [],
   "source": [
    "import matplotlib.pyplot as plt\n",
    "import numpy as np\n",
    "import pandas as pd\n",
    "import seaborn as sns\n",
    "from scipy.stats import ttest_ind"
   ]
  },
  {
   "cell_type": "code",
   "execution_count": 5,
   "metadata": {},
   "outputs": [],
   "source": [
    "df = pd.read_excel(\"data/MOS.xlsx\", sheet_name=\"Sheet1\")"
   ]
  },
  {
   "cell_type": "code",
   "execution_count": 6,
   "metadata": {},
   "outputs": [
    {
     "data": {
      "text/plain": [
       "Index(['Unnamed: 0', 'Sentence', 'emotion', 'id', 'voice', 'model', 'Clarity',\n",
       "       'Prosody', 'Robotic Voice', 'Voice Pleasantness', 'person'],\n",
       "      dtype='object')"
      ]
     },
     "execution_count": 6,
     "metadata": {},
     "output_type": "execute_result"
    }
   ],
   "source": [
    "df.columns"
   ]
  },
  {
   "cell_type": "code",
   "execution_count": 15,
   "metadata": {},
   "outputs": [],
   "source": [
    "base_speakers = [16, 16, 17, 18]"
   ]
  },
  {
   "cell_type": "code",
   "execution_count": 7,
   "metadata": {},
   "outputs": [],
   "source": [
    "df[\"model\"] = df[\"model\"].str.replace(\"15adv\", \"15_adv\")"
   ]
  },
  {
   "cell_type": "code",
   "execution_count": 8,
   "metadata": {},
   "outputs": [],
   "source": [
    "df[\"Prosody\"] = df[\"Prosody\"].astype(np.float32)\n",
    "df[\"Clarity\"] = df[\"Clarity\"].astype(np.float32)\n",
    "df[\"Robotic Voice\"] = df[\"Robotic Voice\"].astype(np.float32)\n",
    "df[\"Voice Pleasantness\"] = df[\"Voice Pleasantness\"].astype(np.float32)"
   ]
  },
  {
   "cell_type": "code",
   "execution_count": 9,
   "metadata": {},
   "outputs": [],
   "source": [
    "grouped = df.groupby([\"model\", \"emotion\"]).agg({\"Prosody\": [\"mean\", \"std\"], \"Clarity\": [\"mean\", \"std\"], \"Robotic Voice\": [\"mean\", \"std\"], \"Voice Pleasantness\": [\"mean\", \"std\"]})"
   ]
  },
  {
   "cell_type": "code",
   "execution_count": 23,
   "metadata": {},
   "outputs": [],
   "source": [
    "aggregation = [\"mean\", \"var\"]"
   ]
  },
  {
   "cell_type": "code",
   "execution_count": 24,
   "metadata": {},
   "outputs": [],
   "source": [
    "grouped_base = df.loc[df[\"voice\"].isin(base_speakers)].groupby([\"model\", \"emotion\"]).agg(\n",
    "    {\n",
    "        \"Prosody\": aggregation, \n",
    "        \"Clarity\": aggregation, \n",
    "        \"Robotic Voice\": aggregation, \n",
    "        \"Voice Pleasantness\": aggregation\n",
    "    }\n",
    ")"
   ]
  },
  {
   "cell_type": "code",
   "execution_count": 25,
   "metadata": {},
   "outputs": [],
   "source": [
    "grouped_base.to_csv(\"grouped_base.csv\")"
   ]
  },
  {
   "cell_type": "code",
   "execution_count": 26,
   "metadata": {},
   "outputs": [],
   "source": [
    "grouped_not_base = df.loc[~df[\"voice\"].isin(base_speakers)].groupby([\"model\", \"emotion\"]).agg(\n",
    "    {\n",
    "        \"Prosody\": aggregation, \n",
    "        \"Clarity\": aggregation, \n",
    "        \"Robotic Voice\": aggregation, \n",
    "        \"Voice Pleasantness\": aggregation\n",
    "    }\n",
    ")"
   ]
  },
  {
   "cell_type": "code",
   "execution_count": 20,
   "metadata": {},
   "outputs": [],
   "source": [
    "grouped_not_base.to_csv(\"grouped_not_base.csv\")"
   ]
  },
  {
   "cell_type": "code",
   "execution_count": 10,
   "metadata": {},
   "outputs": [],
   "source": [
    "prosody_group = df.groupby([\"model\", \"emotion\"])[\"Prosody\"].apply(lambda x: x.values)"
   ]
  },
  {
   "cell_type": "code",
   "execution_count": 12,
   "metadata": {},
   "outputs": [
    {
     "data": {
      "text/plain": [
       "model                 emotion \n",
       "esd_vctk_1            angry       702\n",
       "                      happy       702\n",
       "                      neutral     702\n",
       "                      sad         702\n",
       "                      surprise    702\n",
       "esd_vctk_15           angry       702\n",
       "                      happy       702\n",
       "                      neutral     702\n",
       "                      sad         702\n",
       "                      surprise    702\n",
       "esd_vctk_15_advloss0  angry       702\n",
       "                      happy       702\n",
       "                      neutral     702\n",
       "                      sad         702\n",
       "                      surprise    702\n",
       "esd_vctk_1_advloss0   angry       702\n",
       "                      happy       702\n",
       "                      neutral     702\n",
       "                      sad         702\n",
       "                      surprise    702\n",
       "esd_vctk_2            angry       702\n",
       "                      happy       702\n",
       "                      neutral     702\n",
       "                      sad         702\n",
       "                      surprise    702\n",
       "Name: id, dtype: int64"
      ]
     },
     "execution_count": 12,
     "metadata": {},
     "output_type": "execute_result"
    }
   ],
   "source": [
    "df.groupby([\"model\", \"emotion\"])[\"id\"].count()"
   ]
  },
  {
   "cell_type": "code",
   "execution_count": 11,
   "metadata": {},
   "outputs": [
    {
     "data": {
      "text/plain": [
       "model                 emotion \n",
       "esd_vctk_1            angry       [5.0, 1.0, 1.0, 4.0, 4.0, 1.0, 4.0, 3.0, 3.0, ...\n",
       "                      happy       [4.0, 4.0, 4.0, 5.0, 5.0, 5.0, 3.0, 3.0, 3.0, ...\n",
       "                      neutral     [4.0, 3.0, 3.0, 4.0, 4.0, 3.0, 4.0, 5.0, 5.0, ...\n",
       "                      sad         [4.0, 3.0, 4.0, 4.0, 4.0, 3.0, 3.0, 2.0, 2.0, ...\n",
       "                      surprise    [4.0, 4.0, 3.0, 4.0, 3.0, 2.0, 4.0, 3.0, 2.0, ...\n",
       "esd_vctk_15           angry       [3.0, 3.0, 3.0, 3.0, 3.0, 3.0, 2.0, 3.0, 3.0, ...\n",
       "                      happy       [3.0, 3.0, 2.0, 2.0, 2.0, 2.0, 2.0, 3.0, 3.0, ...\n",
       "                      neutral     [2.0, 3.0, 3.0, 2.0, 2.0, 2.0, 2.0, 3.0, 3.0, ...\n",
       "                      sad         [2.0, 3.0, 3.0, 2.0, 2.0, 2.0, 2.0, 3.0, 3.0, ...\n",
       "                      surprise    [2.0, 3.0, 3.0, 2.0, 2.0, 2.0, 3.0, 2.0, 2.0, ...\n",
       "esd_vctk_15_advloss0  angry       [3.0, 2.0, 2.0, 2.0, 2.0, 3.0, 3.0, 3.0, 3.0, ...\n",
       "                      happy       [3.0, 2.0, 2.0, 2.0, 3.0, 3.0, 3.0, 2.0, 2.0, ...\n",
       "                      neutral     [3.0, 3.0, 3.0, 3.0, 3.0, 3.0, 3.0, 3.0, 3.0, ...\n",
       "                      sad         [3.0, 3.0, 3.0, 3.0, 3.0, 2.0, 3.0, 3.0, 3.0, ...\n",
       "                      surprise    [2.0, 2.0, 2.0, 3.0, 3.0, 3.0, 3.0, 3.0, 3.0, ...\n",
       "esd_vctk_1_advloss0   angry       [2.0, 2.0, 2.0, 3.0, 3.0, 2.0, 3.0, 3.0, 2.0, ...\n",
       "                      happy       [2.0, 2.0, 2.0, 3.0, 3.0, 2.0, 3.0, 3.0, 2.0, ...\n",
       "                      neutral     [2.0, 2.0, 2.0, 3.0, 3.0, 2.0, 3.0, 3.0, 2.0, ...\n",
       "                      sad         [2.0, 2.0, 2.0, 3.0, 3.0, 3.0, 3.0, 3.0, 3.0, ...\n",
       "                      surprise    [3.0, 4.0, 3.0, 2.0, 2.0, 2.0, 2.0, 2.0, 2.0, ...\n",
       "esd_vctk_2            angry       [3.0, 3.0, 3.0, 3.0, 3.0, 3.0, 2.0, 2.0, 2.0, ...\n",
       "                      happy       [3.0, 3.0, 3.0, 3.0, 3.0, 3.0, 2.0, 2.0, 2.0, ...\n",
       "                      neutral     [3.0, 3.0, 3.0, 3.0, 3.0, 3.0, 2.0, 2.0, 2.0, ...\n",
       "                      sad         [3.0, 3.0, 3.0, 3.0, 3.0, 3.0, 2.0, 2.0, 2.0, ...\n",
       "                      surprise    [3.0, 3.0, 3.0, 3.0, 3.0, 3.0, 2.0, 2.0, 2.0, ...\n",
       "Name: Prosody, dtype: object"
      ]
     },
     "execution_count": 11,
     "metadata": {},
     "output_type": "execute_result"
    }
   ],
   "source": [
    "prosody_group"
   ]
  },
  {
   "cell_type": "code",
   "execution_count": 41,
   "metadata": {},
   "outputs": [
    {
     "name": "stderr",
     "output_type": "stream",
     "text": [
      "/home/imd/miniconda3/envs/emotts/lib/python3.8/site-packages/seaborn/_decorators.py:36: FutureWarning: Pass the following variables as keyword args: x, y. From version 0.12, the only valid positional argument will be `data`, and passing other arguments without an explicit keyword will result in an error or misinterpretation.\n",
      "  warnings.warn(\n"
     ]
    },
    {
     "data": {
      "image/png": "[encoded data removed]",
      "text/plain": [
       "<Figure size 1728x864 with 1 Axes>"
      ]
     },
     "metadata": {
      "needs_background": "light"
     },
     "output_type": "display_data"
    }
   ],
   "source": [
    "plt.figure(figsize=(24, 12))\n",
    "sns.boxplot(df[\"Robotic Voice\"], df[\"emotion\"], orient=\"h\", hue=df[\"model\"]);"
   ]
  },
  {
   "cell_type": "code",
   "execution_count": null,
   "metadata": {},
   "outputs": [],
   "source": []
  }
 ],
 "metadata": {
  "interpreter": {
   "hash": "aa809137564978d927d1562b8ec99b87249d4f6b8481f71f1fb188a6cc5f79b9"
  },
  "kernelspec": {
   "display_name": "Python 3.8.12 ('emotts')",
   "language": "python",
   "name": "python3"
  },
  "language_info": {
   "codemirror_mode": {
    "name": "ipython",
    "version": 3
   },
   "file_extension": ".py",
   "mimetype": "text/x-python",
   "name": "python",
   "nbconvert_exporter": "python",
   "pygments_lexer": "ipython3",
   "version": "3.8.12"
  },
  "orig_nbformat": 4
 },
 "nbformat": 4,
 "nbformat_minor": 2
}
